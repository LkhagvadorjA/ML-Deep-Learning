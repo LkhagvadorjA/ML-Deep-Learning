{
  "nbformat": 4,
  "nbformat_minor": 0,
  "metadata": {
    "colab": {
      "name": "last.ipynb",
      "provenance": [],
      "collapsed_sections": [],
      "toc_visible": true
    },
    "kernelspec": {
      "display_name": "Python 3",
      "name": "python3"
    },
    "accelerator": "GPU"
  },
  "cells": [
    {
      "cell_type": "markdown",
      "metadata": {
        "id": "s_qNSzzyaCbD"
      },
      "source": [
        "## **MORPHOLOGICAL ANALYSER FOR MONGOLIAN**\n",
        " ( A.Lkhagvadorj 17B1NUM2406, 2021, 04)\n",
        "\n",
        "---\n",
        "\n"
      ]
    },
    {
      "cell_type": "markdown",
      "metadata": {
        "id": "4xAKpEhGVISf"
      },
      "source": [
        "This notebook trains a sequence to sequence (seq2seq) model with attention for Mongolian morpholigical  analyser.\n",
        "\n",
        "After training the model in this notebook, it will be able to extract word as \"source + inflection\" as shown below\n",
        "\n",
        "![image.png](data:image/png;base64,iVBORw0KGgoAAAANSUhEUgAAAj0AAAJwCAYAAABiV9CzAAAgAElEQVR4Ae3dC7g12V3X+V9359LppCGdEAgoNxMIEYzIcDGYEBLfpDNemAtpOkRI0Ec7MwrqIIIIEkDGC1fBIBcRGMTo44gZmAcnkRmJg87FadCByM0EAbnDJFwaCAnhzLOaek/q3ee89e59au3aa1V99vPUc2pX1V616le/9f9/61919k68KEABClCAAhSgAAUoQAEKUIACFKAABShAAQpQgAIUoAAFKEABClCAAhSgAAUoQAEKUIACFKAABShAAQpQgAIUoAAFKEABClCAAhSgAAUoQAEKUIACFKAABShAAQpQgAIUoAAFKEABClCAAhSgAAUoQAEKUIACFKAABShAAQpQgAIUoAAFKECBHQXeL8m/SPJ7dpZ7SwEKUIACFKAABValwBck+a0kX7aqo3IwFKAABShAAQpQYKTAbUl+LMnXJfnZJHeM1pmlAAUoQAEKUIACq1HguUnelOSuJD+Z5I+u5sgcCAUoQAEKUIACFBgp8I1JvnZ4/yVJ/slonVkKUIACFKAABSiwCgUem+SXkzx7OJoPTvLrSR6/iqNzEBSgAAUoQAEKUGBQ4KVJfmRHje9N8t/sLPOWAhSgAAUoQIGkFAtK7nxnYvSnwHck+fydbn96kv9rZ5m3FKAABShAAQokfzzJ25N8MjH6UuA9k/xmkvIdPePX7xyWv/94oXkKUIACFKAABfKdSb4/yYO0oAAFKEABClCAAmtV4H2SvDVJef71LUl+91oPdK3H9V5Jyvf0XPYq67woQAEKUIACFPhtBf5Kkv9tEOOfJvmbhOlLgXJf8l0v6fITh3uWl6yyiAIUoAAFKLBJBf5Dkk8ajvxjk/zEROFgkwK1ftDlpyeedEkn3zvJr16y3CIKUIACFKDAFhX4yCQPJXnccPCPGr7Y9/lbFKO3Y/6KJGUqlZ7y8xPX35e/X5nk/0nyr3s7KP2lAAUoQAEKHEmBr0nyD3ba/upLlu1s4m0LCpSnz8tUKj0Fbq6/L39fm6Sc3N3/6mqh3/pAAQpQgAIUWFqBRyd5c5IX7uz4WcNdkevVn53V3rakQHmA+X9McndLndIXClCAAhSgQGMKvMvwhYS3X9KvT0jy5EuWW9SYAuXX1N/mX+4aOyu6QwEKUIACFKDAURR4w/B9A0dpXKMUoAAFKEABClCgFQVeluQ1SUrpzosCFKAABShAgXco8B+H36csv1F5q+kdnzLXrALfN/wL3m8keWOS8mOj46nZjusYBShAAQpQ4MgK/IUk16dXJPmlJNd/s7L8bmWZL8s+58j90HwlBcpJnJoq7UYzFKAABShAga4V+MYkf/mSI/jMJN98yXKLKEABClCAAhSgQJcK/HKSp17S87KsrPOiAAUoQAEKUIACq1Dgp5P8yUuOpCz7mUuWW9SgAuVrtD8vyQ8PvxhbvqF5PDXYZV2iAAUoQAEKLK7Apycpz7+Wb2Euv79VpjL/60k+Y/He2OGVFCi/EPujSV6e5NeSfOrwkxQ/Nyy7UqM+RAEKUIACFFihAh83/IrBm4bf3Sq/aFCWeXWiQPl3vOtfq/0rSZ4y9Pu/TfJPOjkG3aQABShAAQpQgAK3VKBUd95r2Krcr/zPhvn39WDWLbWzAQUoQAEKbFOBxyd5ws60TSU6O+ofTPL7hz5/1+jf8V6S5Gc7OxbdpQAFKEABChxLgfdO8r8Mz/CMn30tP9xd3nt1oMBfT/JZQz9fNPwWV7nl9dYk/30H/ddFClCAAhSgwBIK/Isk35OkFAU+OslzdqYl+mAflRX4iOFh5j9SuV3NUYACFKAABXpW4KEkH9TzAeh78lFJHnGJEGVZWedFAQpQgAIUoEBSfrbp+nOv9OhUgXIf8l0v6fsT3aO8RBWLKEABClBgqwo8L8k/v8m3Mm9Vk+6OuzyA9aRLev3+/nvrElUsogAFKECBrSpQvtalPO9aigXlP5/LT0+Mp63q0sVxf1uSMpWT99ph/vqyb0/yY0le08WR6CQFKEABClDg+Aq8LMnUdPwe2MOVFfiGJGUqlZ5/NMxfX/Y1Scqvxr7LlVv3QQpQgAIUoAAFKNCYAq9I8tjG+qQ7FKAABShAgRYVeLckn5bkq0aFgT+QpHyhr1cHCtyepEzXX08efkX2I68v8JcCFKAABShAgYf/c+sXk/zb4dme3zVo8rlJXkWfPhQo3y7554auPi7JTyR58/AlhS/t4xD0kgIUoAAFKHB0Bb4zyecNeykPNV+HnmcOz8EevQN2MF+Bn0/ye4ZmCuR8f5JHJvmkJN87v3ktUIACFKAABVahQPlPreugM4ae90nyllUc4QYO4teTvOdwnN88+umJ8iOkv7qB43eIFKAABShAgX0UKL9Hef3LCcfQ88IkP75PA7Y5vQI/lOTFw8PMpepTfk+kvD44SXnvRQEKUIACFKBA8rXD17s8OkmBnvLwcqny/L9JvoxAfSjw8uH5nfIcz78bPdT8Z5OUH1fzogAFKEABClAgeack/2r4QsLyHXc/meQ3k/zv/gu6L3uUct1/laQ8yHz99YeTlH/D86IABShAAQpQ4B0KlJ+jKP+2/ulJrr1jsbnWFXjnJM++SScL8Nxzk3UWU4ACFKAABbakgHy5grN9d5KHLqno/N4kvzH64qUVHKpDoAAFKEABClxZAfnyytK19cF/kKT87MT49cXDw1rjZaec/9iJnX/GxLqlV31Ukqlp6f7Y33IKPCJJ+ULP8k8B5asfxtNyvbj1nnrp5/UjKbfcx7fdry/3dz8Fyn/kPne/TW21hwI95Ms9DmPbm9yb5E1JHjXIUL6d+aeS/NcNyVL+rf7rktw16tPvTFK+KOpnRstOPVt+x6w83Fb+XjZ/6v6N9/+sJM8ZFnxEki8ffkhvvI35/RT4gCT/YXigsZz/8ivM5fyXamn5Xo9WXr30s+j154d/AS56luk/JfnvktzWipid9ONbBh++MclnJylxs8VX+U64qamVPveQL1vRqtl+FMgpT6Bfh5znJ/mF4QsKW+n0M5K8PskPJ/nQJPcPoFa+Tbr8Dkorr5Lonp7kicOtwfIvjaW/5X2ZWnn9hSExl+9hKj8sW87/Px0SdHk4r5XXP0tS7qO3/nrN8KO95Tfsyjl/SpIPSfJ/JynjqZVXL/38wiTlq/4/K0l5YLRMZb78h2lZ18qrF3+WH47+1AEq3pak+OC+BmJ8OZdPHU5m6dcvJfmSJOX3IHenVs55D/myFa2a7sffTPI/DT38piRf2WBv70zy9cO/15cr6fIv9a29CvSMIaw8L1WqKK293jCAY/kupqLlJwwdfNnwjdyt9Ldc4b9rK52Z6Mf/l+SDhvUlcD9tmC+VtJa+1byXfpbK84su0bssK8fQyqsXf471+rDhhzLLtwcXLcfVlfF2S8z/maGCV6p3Zcx8W5KfS1KW37FEB664jx7y5RUPbTsf+8DhK7TLtzCXK9UPb/DQCzyUEu0PDA9fl3vV5cGyll4/PTzTU/pUysgFgkrVrPz7f0uvEvCul7l/bZSky5dstfQt3EW/HqCnJOnrX01fgLJUJsqrVHyKvq28eurn+18iWllWqj2tvHrx53W9npSkVHn//eDLv79TUbm+3ZJ/y0XXu492WL4c98Ehzv/R0fKWZnvIly3p1WxfitG+azBba538nOG+9JcOzx6Vq4LS3x+d+Jf7UxzDNwzPQ5Xnj8ozHqWM/ILhm62v/0jdKfq1u89yNXW9MvFVo//SK898FEhr5VWSSgnUrb/KF5OV77kqr/JLy68dnpcqYN5SpaeXfv6t4RmzQdLzP+Ubb7/i/N3pZ3rwZ7kdU+Dh1UMMLd8c/MlJHn96+VLierm1Xvq4+yrV5x8bviD39+2ubOB9y/myAXn66EK5XVQGcXnGo7VXebC6wMP4Vf4L5W8MA3m8/JTz5ZmOv5bk25O8clSlKBWU7z5lx3b2Xf4D4Q/tLCtvy4/MlofDW3kVPxaALInusqmVfpaHG68/E1cqPqUaWfpe4PL6z7q00Nde+llAvNwm/MEk3zhMRdOy7O/seOGUuvbgz1J9Lg/T/90GK/jlv4TLhVZ5XTa+y9gvdx7K8z6tvVrOl61p1Wx/njCUOp/cYA/Lg3g3e5V/Ee/hVX6rpfVX+TLK4oNWXq8bIKyA2O7U+k+kFB17+E+jFvu5e65v9v7UHujBn3+qk3/5v9k5vr68lZh0vR8t58vrffSXAhSgAAUoQAEKUIACFKAABShAAQpQgAIUoAAFKEABClCAAhRYnwIPdHJI+lnvRNGynpalJXrSs64C9VrjzXpalpZ60bPuUa+stfKveD289LPeWaJlPS1LS/SkZ10F6rXGm/W0LC31omfdo15Za72cRP2sZzxa1tOytERPetZVoF5rvFlPy9JSL3rWPepTtfaIR9519rh3/h1Vp0c/5vFV2yv9u/Mp7159esST3rl6m3fnnrPa0525q3qbW+xjOeYetNTPPsbQO93+xLPa0523PbZum7c94eydKk8P97Fym7Xj0bHGUO3zXdqrfs5vf+LZ8GW2p8KKtvdbgOJZH/OFzU9Pf/UrznqYrt1x/1nz020vOrtmqqfB7fedXeth6uWc9zCG7rj/7AWPe1n702M+4ewFHUzNx8zBky947EvPephUjya4C/TUhakuBm8vya+XfvYAPKWPvegJeurBVAfAU6Csi7hZQBf0TNBEJ6tAD+jpJhm2mrRBT12gAj2gp1EPgJ5OwGaqm6AH9ICembf7QA/oafVWl0pP1SoS6JmiiU7WgR7QA3pAT1MeaPQqf/cWjGd66j0vtKttq+9BTydgM9VN0AN6mkp4rd7CmuqXSo9Kj0rPrAemW4Wc3X6Bnima6GQd6AE9oEelpykPqPR4pqdRD4CeTsBmqpugB/Q0lfCmKiqtrlPpUelR6VHpaeg/u/zL+gT1gB7QA3pUepryQKNX+RdudbQKOuN+eZDZg8wT+X+Tq0AP6Gkq4bVazZnql0qPSs8YNFqaBz2gZ5NkM3HQoAf0gB6VnqY8oNLjmZ5GPeCZngmY6GUV6AE9TSW8qYpKq+tUelR6WqrujPui0qPS0wuMLNVP0AN6QI9KT1MeaPQq3zM99b6XZ/f3wHa1bfW9Ss9SZHLE/YAe0NNUwmu1mjPVL5UelZ5xdaWleZUelZ4j8kOXTYMe0AN6VHqa8oBKj2d6GvWASk+XmHNjp0EP6Gkq4U1VVFpdp9Kj0tNSdWfcF5UelZ4bU753oAf0gB6VnqY80OhV/u5zJn57q94zPrvatvpepWcFzAR6QE9TCa/Vas5Uv1R6VHrG1ZWW5lV6VHpWwCmXHcKTkvx0kleMVj4jyVuS3DdadmEW9IAe0KPS05QHVHo809OoB1R6LiDESRfcm+StSZ6Z5DFJ/n2Sb7hVj0AP6Gkq4U1VVFpdp9Kj0tNSdWfcF5UelZ5bQUDn6/9Wkh8ZYOcNSR53k+N5YPhBsgcf/ZjHnz3rY76w+enpr64LJ8dqr9V70Tf0q1V46LVfoAf0jEGjpXnQA3puAgFrWfzoJD+Y5O1JPmKfg1LpqQtTN8BFoyValZ2Zt7N24Qz0gJ6WQGfcF9ADevYBgY63eVqSX03ym0k+fp/jAD2gBwTNhCDQA3rGoNHSPOgBPfuAQKfbPDLJdyf5h0n+fJI3J3mvWx0L6AE9oAf0NOWBViukO/3yL+v+Zb3VB5uHx1dulf67X/83kvx4kscnuS3Ja5K8LsntU0cGekBPUwlv99ZRD+9VelR6WqrujPui0qPSMwUAHa97TpK3Jfno0TE8OcnPJfnM0bILs6AH9IAelZ6mPLBTUWn1OTmVHpUelZ4LSNH+AtADeppKeD1Udnb7qNKj0jOurrQ0r9Kj0tM+hizbQ9ADekCPSk9THlDp8eWEjXqg1crObr+28kzPlWgJ9ICephLebhWlh/cqPSo9LVV3xn1R6VHpuRIZrPhDoAf0gB6VnqY80OhV/u6zRZ7p8UzPboWllfcqPRPQBnpAT1MJr4fKzm4fVXpUesbVlZbmVXpUeiby/yZXgR7QA3pUeprygEqPZ3oa9UArlZxb9UOlZwLnQA/oaSrh7VZReniv0qPS01J1Z9wXlR6Vnon8v8lVoAf0gB6VnqY80OhVvmd66j3D84IdGNvVttX3t6qwtLJepWcC50AP6Gkq4fVQ2dnto0qPSs+4utLS/A5c7MJGK+9bhZzdfrUCNbfqB+gBPWdPf3VduLlZe7uDpMn3u0nb+3lJG/TM02/Xfyo9nulp1AO3go1W1oMe0AN6xkFkN8l4Py9pg555+u36b+zVhuf9y3q9211NXhxe4r1WoOZW/QA9oAf0jAfwbpLxfl7SBj3z9Nv139irDc+DHtBzK/g41XrQA3pAzzh57CYZ7+clbdAzT79d/4292vA86AE9p4KaW+0X9IAe0DNOHrtJxvt5SRv0zNNv139jrzY8D3pAz63g41TrQc8E9Nyde+oGrN0AtrH3b//pp561PrXyHxu36of/Kpv5r/QbG3v8wi888NseAD2gZzGwax14Sv9uBRutrBfAJDEe4AEeONwDoAf0gJ5RBaoVqLlVPwS7w4MdzWjGAzwAekAP6AE9i3lA0pF0eIAHTukB0AN6Fkt4bm9VfLjRMymL+faUAdq+AQIP1PUA6AE9iyUP0AN6BPC6AZye9OSBwzwAekAP6HF7azEPCNCHBWh60YsH6noA9ICexRKeSo9KjwBeN4DTk548cJgHQA/oAT0qPYt5QIA+LEDTi148UNcDoAf0LJbwVHpUegTwugGcnvTkgcM8AHpAD+hR6VnMAwL0YQGaXvTigboeAD2gZ7GEp9Kj0iOA1w3g9KQnDxzmAdADekCPSs9iHhCgDwvQ9KIXD9T1AOgBPYslPJUelR4BvG4Apyc9eeAwD4Ae0AN6VHoW84AAfViAphe9eKCuB0AP6Fks4an0qPQI4HUDOD3pyQOHeQD0gB7Qo9KzmAcE6MMCNL3oxQN1PQB6QM9iCU+lR6VHAK8bwOlJTx44zAOgB/SAHpWexTwgQB8WoOlFLx6o6wHQA3oWS3gqPSo9AnjdAE5PevLAYR7YCvQ8Lsk3JPmZJGej6aMnmCd3557FgGALxgU9oGcLPneMhyUhetFrSQ9sBXr+2gA8z03y7kl+9wA+l0HPA4MoD96Zu0DPbfUGJOgBPUsGN/uqN3ZpScu1eGAr0PPPknz9qKrzLhPQc76ZSk/dgQ56QM9aAqfjqBsb6EnPpTywFej5yiRvTPKeA9GAnooVnH3NCnpAz75esZ0kyAM8cAwPbAV63i3Ja4fqzq8meUilZ/kBBXpAzzGCmDaXH8s0p3mvHtgK9JQCz71J3pTkI5N8GOhZftCCHtDTa6DU7+XjBc1pfgwPbAV63ifJLyT5GLe3TjeQQA/oOUYQ0+bpxjTtad+bB7YAPXcm+Z4kX3D+hHLimR7P9JxdBmEveEw9MDlmW70FGv2VHHmAB1rwwBagZ8Q6h8367626g/QyyGht2TFBpWbbLQQPfag7PuhJTx44vgdAzwQHgZ66BmwNcC7rT00wOWZbgmNdb9KTnjywDQ+AHtCz2BcwXgYZrS07JqjUbFuA3kaAdp6dZx6o6wHQA3pAjx8cXcwDAnjdAE5PevLAYR4APaBnsYTXWlXnsv7UrMYcsy2B7rBARy968QAPFA+AHtADelR6FvOAxCPx8AAPnNIDoAf0LJbwLqustLbsmNWZmm2fMmjYt6TFAzzQqwdAD+gBPSo9i3mg10Cp35I8D6zDA6AH9CyW8Fqr6lzWn5rVmGO2JQCvIwA7j84jDyzrAdADekCPSs9iHhDglw3w9KY3D9zoAdADehZLeJdVVlpbdszqTM22BbIbAxk96MEDPLCPB0AP6AE9Kj2LeWCfoGQbyYsHeOBYHgA9oGexhNdaVeey/tSsxhyzrWMFBO1KNjzAA2v2AOgBPaBHpWcxD6w5mDo2sMAD7XsA9ICexRLe8x/54rPWp5/9iXc/62FqXcfu+veol5w9v4NJUm0/qTpHbZ8j0AN6QM8IxnoAntLH7qBipHGTfe8AeAqUSahtJ1Tnp/3zA3pAz2KBtMlkt5OMQU/71bij+Aj0LBYHgEH7YLDmcwR6QM9iwe4oyWoHWubuA/SAnpZvc605GTk2MLSEB0AP6AE9I3ACPaAH9Ei+SyRf+ziNz0AP6AE9oMczQm5vLRYHJPvTJHu6/7buoAf0LBbs5t56WuLzKj0qPSo9kjJAWK8HQA/oAT0qPSo9Kj2LxQFAsV6g6OHcgh7Qs1iwW6JSM3cfKj0qPSo9knIPyVsfr+ZT0AN6QI9Kj0qPSs9icUCyvlqyplsd3UAP6Fks2M2twizxeZUelR6VnjrJRZKmY4seAD2gB/So9Kj0qPQsFgdaTIT6tB1AAz2gZ7Fgt0SlZu4+VHpUelR6tpMAwc72zjXoAT2gR6VHpUelZ7E4ADS2BxotnXPQA3oWC3ZzqzBLfF6lR6VHpUdSbilJ60tdP4Ie0AN6VHpUelR6FosDknjdJE7Pw/QEPaBnsWC3RKVm7j5UelR6VHoOSyKSLr168gDoAT2gR6VHpUelZ7E40FOC1Nf1AR3oAT2LBbu5VZglPq/So9Kj0rO+RAdenNPrHtgS9Lwqyc8n+Y0kP5Lk0yZ45+FVd+eexYDg+glZ898loGXuPkAP6AE9EuSa4/DWj21L0PNHkjwjyXsl+fgkb0vyUVPgA3rqBr+5QLLE50EP6AE9dcf91pOs42/LT1uCnjHffHCSX0/y3PHCYf6BQZQH78xdKj231TPsEtAydx+gB/SAnnpjXsKnZWse2Br0fPUAO7+Z5LMuAZ4bFqn01B2wc4Fkic+DHtADeuqO+9aSnv5s+/xuDXreNcnTk7w0yU8leeYNlLPzBvTUHRxLQMvcfYAe0AN66o57kEHPljywNegZY82rk/zt8YLdedBTd7DOBZIlPg96QA/oqTvuW0p4+uLcbgV6npDkjw9VnvdN8rIkDyX5E7ugM34PeuoOkCWgZe4+QA/oAT11xz3QoGdLHtgK9DwxyeuSvGl4pucHk3zGGHAumwc9dQfrXCBZ4vOgB/SAnrrjvqWEpy/O7Vag5zKmueUy0FN3gCwBLXP3AXpAD+ipO+6BBj1b8gDomUAf0FN3sM4FkiU+D3pAD+ipO+5bSnj64tyCHtCz2HcRLQEtc/cBekAP6JEYwdF6PQB6QA/o8YOjfnDUD44uFgcAxXqBoodzC3pAz2LBbm4VZonPq/So9Kj0SMo9JG99vJpPQQ/oAT0qPSo9Kj2LxQHJ+mrJmm51dAM9oGexYLdEpWbuPlR6VHpUeuokF0maji16APSAHtCj0qPSo9KzWBxoMRHq03YADfSAnsWC3dwqzBKfV+lR6VHp2U4CBDvbO9egB/SAHpUelR6VnsXiANDYHmi0dM5BD+hZLNgtUamZuw+VHpUelR5JuaUkrS91/Qh6QA/oUelR6VHpWSwOSOJ1kzg9D9MT9ICexYLd3CrMEp9X6VHpUek5LIlIuvTqyQOgB/SAHpUelR6VnsXiQE8JUl/XB3SgB/QIdreNBvYd959d62D69jd+4FkP070f8JfOeph6OOcP93HsVfNiFw8c7AHQA3oONs2qr346AJ6S/HoAntLHHoCn9BH0jMBfIhUTV+wB0AN6DPDxAAc9VYEK9FSuHI69al7s4oGDPQB6QM/BplHpqZzIrgBaKj11b5up9Kj0rDqugaPzPAd6QM+5GQz6F3VzmwP0gB7jFajxwOEeAD2gB/SMr4KuUHU5RZUA9IAeCe/whEczmoEe0AN6QE/V53jGQOaZnsq3QsdeNS928cDBHgA9oOdg06z6akmlpyoAgR7Qs+p4ATq6yx+gB/R0Z9qjBlHQA3pa9oAkK17xwCwPgB7QM8tARwWQUwzulhPeqG/jW0gtz6v0qPSsLkacIi7ZZ7U8BXpATzUzrSK4jcDiFA8o77vPlkFn3DfQA3pWERdAx2ryBOgBPasxc5XgCnrc3mrZA5KveMUDszwAekDPLANVAY2WBnHLCW/Ut3E1peV5lR6VntXFiJbilb4cnL9AD+g52DSrDmIjsNj3VtMptmsZdMZ9Az2gZ9XxAnR0lz9AD+jpzrRHDaKgx+2tlj0gyYpXPDDLA6AH9Mwy0FEB5BSDu+WEN+rbuJrS8rxKj0rP6mLEKeKSfVbLU6AH9FQz0yqC2wgsTnHbat99tgw6476BHtCzirgAOlaTJ0AP6FmNmasEV9Dj9lbLHpB8xSsemOUB0AN6ZhmoCmi0NIhbTnijvo2rKS3Pq/So9KwuRrQUr/Tl4PwFekDPwaZZdRAbgcW+t5pOsV3LoDPuG+gBPauOF6Cju/yxJeh5XZKznek1E8yTu3NPdydUgHnRvHMGetzeatkDkuy88U2/zeu3Nej5+iRPHk33gJ6ZkLC2INJywhv1bVxNaXlepUelx4WYGNuSB7YGPa+cgpxh3QODKA/embs2T8UtmXWRvozA4hS3rfbdZ8ugM+4b6AE9i4zbtV18OZ6j5V7QM0FBbm9t8AoF9Li91bIHJMOjJUNwto14D3pAjyAyTiQtJ7xR38bVlJbnVXpUesDENmCil/MMekAP6AE9Vas7YwgDPaCnl2Son9uAM9ADekAP6AE9oyravs9VnWS7sVfNi108cLAHQA/oOdg0q74i6iT5jaspLc+r9Kj0rDpegI7u8seWoGcCby5f5UHmbZQ7bwjKoKdq1Qf0gJ4bxhdI6A4S1nb+QM/lvPPwUtADek5yC2MP8Gq5ujPuG+gBPWtLmo6n77wAekCPK4/x1ecewNECCI3BouV50AN6QELfkLC28wd6QA/oAT1Vb2mNIQz0gJ61JU3H0zfEgR7QA3pAD+jppMIn4fadcJ2/058/0AN6QA/oAT2gRxwYxwHzq/UD6AE9qzX3la6qOkl+41tILc+7veX21pXGIegQl4/kAdADegyu8eACPVWrPqAH9ICe0xanMQEAACAASURBVN/ScQ7ecQ5AD+gBPaCnKuiMK0+gB/RIuO9IuLQ4vRagB/SAHtADejqp8Emap0+azkHf5wD0gB7QA3pAD+gRB8ZxwPxq/QB6QM9qzX2lK7JOkt/4FlLL825vub11pXEIOsTlI3kA9IAeg2s8uEBP1aoP6AE9oKfv20FrO3+gB/SAHtBTFXTGlSfQA3rWljQdT98QB3pAD+gZQ08v851UpP7eD33kWQ/TvU/7jLMephZ+9201fbj9vrNrPUxi0llNz4Ee0AN6egkq436Cnqow1QPwlD7WDP6bb6sH4Cl9HI/7luc7iUmgB/T0M6haHvBL962TANNDlaf0EfRUvg3Xgz9BT93Y38M5v+P+M9ADeuoaf+nkv9X9dRJgQE/d22abr87U9D3oqRv7a56bI7YFekBPXeNvFUKWPu4jBoWaiRX0gJ6afqraFuipG/s7iUmgB/TUNf7SyX+r++skwIAe0FMVVGr6HvTUjf01z80R2wI9oKeu8bcKIUsf9xGDQs0kBXpAT00/VW0L9NSN/Z3EJNADeuoaf+nkv9X9dRJgQA/oqQoqNX0PeurG/prn5ohtgR7QU9f4W4WQpY/7iEGhZpICPaCnpp+qtgV66sb+TmIS6AE9dY2/dPLf6v46CTCgB/RUBZWavgc9dWN/zXNzxLZAD+ipa/ytQsjSx33EoFAzSYEe0FPTT1XbAj11Y38nMQn0gJ66xl86+W91f50EGNADeqqCSk3fg566sb/muTliW6AH9NQ1/lYhZOnjPmJQqJmkQA/oqemnqm2Bnrqxv5OYBHpAT13jL538t7q/TgIM6AE9VUGlpu9BT93YX/PcHLEt0AN66hp/qxCy9HEfMSjUTFKgB/TU9FPVtkBP3djfSUwCPaCnrvGXTv5b3V8nAQb0gJ6qoFLT96CnbuyveW6O2BboAT11jb9VCFn6uI8YFGomKdADemr6qWpboKdu7O8kJoEe0FPX+Esn/63ur5MAA3pAT1VQqel70FM39tc8N0dsC/SAnrrG3yqELH3cRwwKNZMU6AE9Nf1UtS3QUzf2dxKTQA/oqWv8pZP/VvfXSYABPaCnKqjU9D3oqRv7a56bI7a1Feh5YZLvSvLmJG9K8tokT5/gnYdX3Z176ppiqwnacdf30RGDQs0kBXpAT00/VW0L9NSNS53EpK1Az8cmKdP7JXlGkn+c5A1JHjUFPqDnRXUHBfipp2cnAQb0gJ6qoFLT96CnXjwqsb3muTliW1uBnl22eWyStyd51u6KJA8Mojx4Z+6qawpJn561PHDEoFAzeIEe0FPTT1XbAj1143EnMWkr0POUJK9K8sYkv5zkoSRnSV5yCfScL1LpUem5VgtSarfTSYABPaCnKqjU9D3oAT3n2X59Mz+Q5DuSXBue5Sm3ud6W5JOmDhX0gB7Qc/+ssjXoAT2g576za3MAq/YF07HaqwmkR2xrC5WeJw5VneeOAOdDhmWg51gDQLt1r6J29TxiUKiZpEAP6Knpp6ptzQGRJT+7O/Zbfd9JTNoC9Nye5OeH21tPTfKcJP9GpUcVp9kqzj5BrZMAA3pAT1VQqen7JcFlzr72iQctbFPz3ByxrS1ATynwPC/J65O8Zfh77/Bcj0pPC4NFHw6vCh0xKNRMUqAH9NT0U9W25oDIkp/tJT52EpO2Aj2jO1v7z3qmRzWo2WpQJwEG9ICeqqBS0/dLgsucfYGeWc8V7voP9EwwEOgBPaDHg8z3Pq0uuMxpbzeAez/Dn3NAZMnPgh7QM8EpVVeBHtADemYklTvuP1PpqQtMIGeeH2/Qb0lwmbMv0AN6qpLNRGOgB/SAnnlJBvSAnhtAo+btqbltzQGRJT8LekDPBKdUXQV6QA/oAT1zbkfV/myzADEXQE7x+SXBZc6+QA/oqUo2E42BHtADekBPbXCZ0x7omefHG/SbAyJLfhb0gJ4JTqm6CvSAHtAzL8m4veX21g2gcYqKzs32uSS4zNkX6AE9VclmojHQA3pAD+iZU5mp/dlmAeJmYNHy8jkgsuRnQQ/omeCUqqtAD+gBPaCnNrjMaQ/0zPPjDfotCS5z9gV6QE9VsploDPSAHtAzL8m4veX21g2g0VLlZw6ILPlZ0AN6Jjil6irQA3pAD+iZU5mp/dlmAaIlmNm3L0uCy5x9gR7QU5VsJhoDPaAH9ICe2uAypz3QM8+PN+g3B0SW/CzoAT0TnFJ1FegBPaBnXpJxe8vtrRtAY98qzBLbLQkuc/YFekBPVbKZaAz0gB7QA3rmVGZqf7ZZgFgCUmrvYw6ILPlZ0AN6Jjil6irQA3qahZ5OAuELHvMJZz1Mr/+x9zjrYepBy9JH42Z7sfP5j3zxWQ+TX1mfwCTQs72BK1jXPee9JOkegKf0sRc9jaO646gHPXsAntJH0AN6XJV1UjXpIfDt9rGXJA166lbkdn3g/fohCPRMwEQvq1R61j9QBePjnmPQU/e2WS96GlfHHVct6gt6eiGbiX6Cnu0N3BaDSc996iVJq/So9PQ8zlroO+iZgIleVoEe0NNCMOm5D6BHpadn/+r7/jkA9PRCNhP9BD37G15woNVlHgA9oOcyX1i2vngBeiZgopdVoGd9A1OwXfacgh7QY8wtO+ZOpTfo6YVsJvoJerYxWE8VJLawX9ADerbgc8f4oi6+o6eAmX9ZBz3+Zd2/rB/NA6AH9ACCbVw8qvRMwEQvq1R6tjFYBeXjnWfQA3qMr+ONr5a0BT29kM1EP0HPNgZrS4FjbX0BPaBnbZ52PJfnBdAzARO9rAI9l5vboKfLvh4APaBnX6/Yru+4Anp6IZuJfoKevgehIHr68wd6QI9xePpxuMQ5AD0TMNHLKtCzjcG6REDY6j5AD+jZqve3dtygpxeymegn6AE9WwtctY8X9ICe2p7SXptxGfRMwEQvq0BPm4NL0OvnvIAe0GO89jNe55wr0NML2Uz0E/RsY7DOGeg+O+0R0AN6jJHpMbIWfUDPBEz0sgr0bGOwriXotHgcoAf0tOhLfaof20FPL2Qz0U/QU39gCDbb0hT0gB5jfhtjHvRMwMQJVr0wyXcleXOSNyV5bZKn36ofoGcbg1VQPt55Bj2gx/g63vhqSVvQcyuiWHb9xyYp0/sleUaSf5zkDUkeNdUN0LONwdpS4FhbX0AP6Fmbpx3P5XkB9EzRxOnXPTbJ25M865KuPDD8CuuDd+auo/0Qo4Fz+cChy7p0AT2gx5he15i+2fkEPZfQxAkXPSXJq5K8MckvJ3koSfmJ+ZdM9UmlZxuD9WaD2PL55x/0gB7jaP446kFD0DNFE8uv+4Ek35Hk2vAsT7nN9bYknzTVFdCzjcHaQ0DptY+gB/T06l39Piz+g54pmlh23ROHqs5zR7v9kGEZ6LntMGMLBPQ6xAOgB/Qc4hfb9htfQM+IME48e3uSnx9ubz01yXOS/BuVnn4Hl8DYz7kDPaDHeO1nvM45V6DnxKSzs/vnJXl9krcMf+8dnutR6VHp8bD6ET0AekDPnETqs/0AE+jZoY4e33qmp58BJzi2ea5AD+gxNtscm7XPC+jpkXJ2+gx6tjFYaw9+7b3DN6AH9BgP7xgPa9YC9OwARI9vQc82BuuaA9Gpjw30gJ5Te9D+l4njoKdHytnpM+hZZrAISuvVGfSAHuN7veN7fG5Bzw5A9PgW9GxjsI4Hrvm65xz0gB5jqu6YalVP0NMj5ez0GfRsY7C2GkTW0C/QA3rW4GPHcOtcAHp2AKLHt6Dn1kYXDGg05QHQA3qm/GHdeuIH6OmRcnb6DHrWMyAF19OcS9ADeoy904y9pXUHPTsA0eNb0LONwbp0cNjS/kAP6NmS37d8rKCnR8rZ6TPoAT1bDmI1jh30gJ4aPtJG+7EY9OwARI9vQU/7A00wbPscgR7QY4y2PUZrnR/Q0yPl7PQZ9GxjsNYa9Nq56BfQA3qMi4vjYo2agJ4dgOjxLejZxmBdYwBq5ZhAD+hpxYv6cdx4Dnp6pJydPoOe4w4SQWj9+oIe0GOcr3+cl3MMenYAose3D0PPHfefXWt9uv2+s2s9TLdtY/AL8u84z70Ewi7Gz+33nT3ztZ/exXTtmZ9/1vr0gse+9KyHqZcx9ML3+OSzHqYkD/bII4v0GfRUhinQc7Y1IOolYIOeujDVOvCU/vUAPKWPvYyhHoCn9BH0TOAT6AE9W4OU2sfbS8AGPaCnVQjqZQyBngmY6GUV6AE9tSFga+31ErBBD+gBPS+eVVUCPb2QzUQ/QQ/o2Rqk1D5e0FN3DHmmp96zQq1Czm6/ehlDoGcCJnpZBXrqBuzaCVV773hguFUtegnYKj0qPbuw0cr7XsYQ6OmFbCb6CXpAT6sw0Uu/egnYoAf0tAI5u/3oZQyBngmY6GUV6AE9vcBFq/3sJWCDHtCzCxutvO9lDIGeXshmop+gB/S0ChO99KuXgA16QE8rkLPbj17GEOiZgIleVoEe0NMLXLTaz14CNugBPbuw0cr7XsYQ6OmFbCb6CXpAT6sw0Uu/egnYoAf0tAI5u/3oZQyBngmY6GUV6AE9vcBFq/3sJWCDHtCzCxutvO9lDIGeXshmop+gB/S0ChO99KuXgA16QE8rkLPbj17GEOiZgIleVoEe0NMLXLTaz14CNugBPbuw0cr7XsYQ6OmFbCb6CXpAT6sw0Uu/egnYoAf0tAI5u/3oZQyBngmY6GUV6AE9vcBFq/3sJWCDHtCzCxutvO9lDIGeXshmop+gB/S0ChO99KuXgA16QE8rkLPbj17GEOiZgIleVoEe0NMLXLTaz14CNugBPbuw0cr7XsYQ6OmFbCb6CXpAT6sw0Uu/egnYoAf0tAI5u/3oZQyBngmY6GUV6AE9vcBFq/3sJWCDHtCzCxutvO9lDIGedsjmdUm+OsmXJ3nzMH1Rkttv1UXQA3pahYle+tVLwAY9oKcVyNntRy9jCPTciiiWW1+g51eS/O0kH5Dk45L8UpJPvUkXHkjyYJnuzF1n1+64v/3p9spwcqz2bnvRWS/JWj/rnKteAjboAT27sNHK+17GEOi5CVGcYHGBnh9Octto35+d5CdG7y+dVempDFOgZ3PQ10vABj2gpxXI2e1HL2MI9FyKESdZWKDnm3b2/AeTnCV5p53lN7wFPaBHxWdexaeXgA16QM8ubLTyvpcxBHpuwIeTvgE9x7pddWi7Kj0qPY988VmLQRz0gJ5WIGe3Hy2Ol8v6BHpOyjk37LxAzw/t3N76rCQ/ecNWl7xR6VHpUelR6WkJiJ752rpwcqz2rj3z889an3bhotX3lwFGi8tAzyUQcaJFBXrKg8zlv7eeluRFSX4xyafdqj+gB/SAHtADeg4HrdaBp/SvVcjZ7VeLgHNZn0DPrYhiufUFesq/rL9ygJ3yb+tfkuSOW3UB9IAe0AN6QA/o2QWRJd9fBhgtLgM9tyKK5dYX6CnAc/AL9IAe0AN6QA/oWRJydvfVIuBc1ifQczBiHO0DoOfQB46Ptb0HmT3I7EHmszkQdaxncGq36/bWS6vdPrsMMFpcBnqOxjAHNwx6jgUxh7YLekAP6AE9jTzkvFtRafV9i4BzWZ9Az8Fs0t4H3N5ye8vtLbe35lRman+2dkXmWO2p9Kj0tApBwy8utAccLfQI9IAe0AN6aoPLnPaOBSm12wU9oAf0tEAxB/YB9IAe0AN65kBK7c/WhpNjtQd6QA/oORA4Wtgc9IAe0AN6aoPLnPaOBSm12wU9oAf0tEAxB/YB9IAe0AN65kBK7c/WhpNjtQd6QA/oORA4Wtgc9IAe0AN6aoPLnPaOBSm12wU9oAf0tEAxB/YB9IAe0AN65kBK7c/WhpNjtQd6QA/oORA4Wtgc9IAe0AN6aoPLnPaOBSm12wU9oAf0tEAxB/YB9IAe0AN65kBK7c/WhpNjtQd6QA/oORA4Wtgc9IAe0AN6aoPLnPaOBSm12wU9oAf0tEAxB/YB9IAe0AN65kBK7c/WhpNjtQd6QA/oORA4Wtj87tuecPb8R72k+al2YD1ae357a3O/vQUa50HjBf0O/b27E23/YZ/4xWetT/c+6eVnXUxP/tNn93YwPeNTvvSsh8nPUEzQFehR6bmQdIAbcDulB04EMYdeCLUOPKV/XQBPAbMOgKf0sQfgKX0EPaBn1q8+HxQMT5ks7BusrMEDoKdaBQn01K0ggZ4JmOhllUqPSo9KT+XbM2sAj1MeA+gBPY1WfkBPL2Qz0U/QA3pAD+hpygOgB/SAnlm30tzeAj1ub53yyt2+3XY7xAOgB/SAHtAzwS2zVqn0qPQ0dZV/SHK07TphCvSAHtADemaRzcSHQQ/oAT1ubzXlAdADekAP6JngllmrQA/oaSrhqd6ss3pzyHkFPaAH9ICeWWQz8WHQA3pAj0pPUx4APaAH9ICeCW6ZtQr0gJ6mEt4hFQHbrrMqBHpAD+gBPbPIZuLDoAf0gB6VnqY8AHpAD+gBPRPcMmsV6AE9TSU81Zt1Vm8OOa+gB/SAHtAzi2wmPgx6QA/oUelpygOgB/SAHtAzwS2zVoEe0NNUwjukImDbdVaFQA/oAT2gZxbZTHwY9IAe0KPS05QHQA/oAT2gZ4JbZq0CPaCnqYSnerPO6s0h5xX0gB7QA3pmkc3Eh0EP6AE9Kj1NeQD0gB7QA3omuGXWKtADeppKeIdUBGy7zqoQ6AE9oAf07Ek235jkc/fc9uHNQA/oAT0qPU15APSAHtADevYEGdBz6oCp+rDO6oPzutx5PfUY3nP/H/aJX1wNTo7V1r1PevlZF1OjkHPvTr+e8SlfOgtGlvp8kgf3ZIbuN9sXeh4YRHnwztx19vxHvaT56dqegejk20mOyyVHWq9T607G+rFApWa7XQBPAbMduGj1/VLQMnc/oGeC5dzecnurqVsbQGadIHPIeQU91SpIoOdPVwWquTCy1OfXDD1/OclDo+ltSd46el/WPXuCeQJ6QA/o8UxPUx4APaCn0crPUtAydz9rhp4nJHnqaPqWJF8xel/WPQb0VAabqaB8yBWtbVU1eOCiB6bGV0Prat6GOlZbKj0qPVP5fw3r9n2m5/xYVXoqA5EkdjGJ0YQmh3igIbCZekbwWKBSs13QA3rOk/1KZ0DPqQPmIcHdtmCABy564NRjeM/914STY7UFekDPSlnn/LBAz54Ba+oKbtY6SexiEqMJTQ7xwKnH8J77Pxao1GwX9ICeczow89sKuL3l9lZTD7Eekhxtu06Y2hM6Zl2cVNhHTTg5VlugB/RgnR0FQA/oAT3+e6spD1QAkiWA6FigUrNd0AN6dlK+t6AH9DSV8FRv1lm9OeS8gh7/su5f1md98/Oa/2V9NrWBHtADelR6mvIA6AE9oAf0zKabmzQAekBPUwnvkIqAbddZFQI9oAf0gJ6bMMvsxaAH9IAelZ6mPAB6QA/oAT2z6eYmDYAe0NNUwlO9WWf15pDzCnpAD+gBPTdhltmLQQ/oAT0qPU15APSAHtADembTzU0aAD2gp6mEd0hFwLbrrAqBHtADekDPTZhl9mLQA3pAj0pPUx4APaAH9ICe2XRzkwZAD+hpKuGp3qyzenPIeQU9oAf0gJ6bMMvsxaAH9IAelZ6mPAB6QA/oAT2z6eYmDYAe0NNUwjukImDbdVaFQA/oAT2g5ybMMnsx6AE9oEelpykPgB7QA3pAz2y6uUkDd+eesyV+nG/2PlzVr/Oq3nl1Xjv1wL0f8JfOWp/e+3/462c9TC/4vZ991sPUyw+4+u2tmwBPWQx6XOU3dZXfaQKk4fbGUevAU/rXA/CUPvYAPKWPoGcCJnpZBXq2F6wlaOecB+Z7APTUqyKBnpdXBSqVngkCAz3zg58EQkMe2J4HQA/oabXyA3pAj+cm3DbiAR6o6gHQA3pAzwRctLpKpWd7V6iqEs45D8z3AOgBPaCnVbKZ6BfomR/8JBAa8sD2PAB6QA/omYCLVleBnu0FawnaOeeB+R4APaAH9LRKNhP9Aj3zg58EQkMe2J4HQA/oAT0TcNHqKtCzvWAtQTvnPDDfA6AH9ICeVslmol+gZ37wk0BoyAPb8wDoAT2gZwIuWl0FerYXrCVo55wH5nsA9IAe0NMq2Uz0C/TMD34SCA15YHseAD2gB/RMwEWrq0DP9oK1BO2c88B8D4Ae0AN6WiWbiX6BnvnBTwKhIQ9szwOgB/SAngm4aHUV6NlesJagnXMemO8B0AN6QE+rZDPRL9AzP/hJIDTkge15APSAHtAzARetrgI92wvWErRzzgPzPQB6QA/oaZVsJvoFeuYHPwmEhjywPQ+AHtADeibgYqFVr0tytjO9ZmrfoGd7wVqCds55YL4HQA/oAT1TdLHMugI9X5/kyaPpnqldg575wU8CoSEPbM8DoAf0gJ4pulhmXYGeV+6xqweSPFimO3PX2bXb72t/um17QVUidc55oF0PgB7QA3r2oI0jb7Iv9Jx3Q6Wn3aAq4Tk3PNCuB0AP6AE95yhxshnQoyJ0JlG2myidm/WcG9ADekDPyVjnfMegB/SAHh7ggQU8AHpAD+g5Z4+TzYCeBYKdq/X1XK07l87lVT0AekAP6DkZ65zvGPSAHlf5PMADC3gA9IAe0HPOHv3MeJDZle5Vr3R9jne27AHQA3pATz+sc95T0CNxbTlxOXb+v6oHQA/oAT3nKNHPDOgR9K8a9H2Od7bsAdADekBPP6xz3lPQI3FtOXE5dv6/qgdAD+gBPeco0c8M6BH0rxr0fY53tuwB0AN6QE8/rHPeU9AjcW05cTl2/r+qB0AP6AE95yjRzwzoEfSvGvR9jne27AHQA3pATz+sc95T0CNxbTlxOXb+v6oHQA/oAT3nKNHPDOgR9K8a9H2Od7bsAdADekBPP6xz3lPQI3FtOXE5dv6/qgdAD+gBPeco0c8M6BH0rxr0fY53tuwB0AN6QE8/rHPeU9AjcW05cTl2/r+qB0AP6AE95yjRzwzoEfSvGvR9jne27AHQA3pATz+sc95T0CNxbTlxOXb+v6oHQA/oAT3nKNHPDOgR9K8a9H2Od7bsAdADekBPP6xz3tOHoec2wXvLwdux8z8PrNMDz3/US856mD7wW//KWQ/T8579BWc9TEkePE/yZm5UAPSsM9hJYs4rD/BAD8BT+tgD8JQ+9gA8pY+g50bOueEd6BEYJUce4IF1egD01K0ggZ4b8KHPN6BnncFOEnNeeYAHQA/o6ZNMjthr0CMwSo48wAPr9ADoAT1HxIc+mwY96wx2kpjzygM8AHpAT59kcsRegx6BUXLkAR5YpwdAD+g5Ij702TToWWewk8ScVx7gAdADevokkyP2GvQIjJIjD/DAOj0AekDPEfGhz6ZBzzqDnSTmvPIAD4Ae0NMnmRyx16BHYJQceYAH1ukB0AN6jogPfTYNetYZ7CQx55UHeAD0gJ4+yeSIvQY9AqPkyAM8sE4PgB7Qc0R86LNp0LPOYCeJOa88wAOgB/T0SSZH7DXoERglRx7ggXV6APSAniPiQ59Ng551BjtJzHnlAR4APaCnTzI5Yq9Bj8AoOfIAD6zTA6AH9BwRH/psGvSsM9hJYs4rD/AA6AE9fZLJEXsNegRGyZEHeGCdHgA9oOeI+HDSph9I8jNJHrHTi29J8qqdZTe8BT3rDHaSmPPKAzwAekDPDQl/RW/uTvJQkv9idExPSvLWJNdGyy7Mgh6BUXLkAR5YpwdAD+i5kPRXtODrknzr6Hg+Ncl/THLbaNn12VIZerBMd+auMwFvnQHPeXVeeWDbHgA9oOd60l/j349I8rYk7zYc3PclecWtDlSlZ9tBUVJ0/nlgvR4APaDnVgzQ+/rvTfIXk3x4krcnea9bHRDoWW/Ak8ycWx7YtgdAD+i5FQP0vv5Tknx/kq9O8s/3ORjQs+2gKCk6/zywXg+AHtCzDwf0vM09SX59eID5xfscCOhZb8CTzJxbHti2B0AP6NmHA3rf5puTvDnJo/c5ENCz7aAoKTr/PLBeD4Ae0LMPB/S+zecmef2+BwF61hvwJDPnlge27QHQA3r2ZYGetwM9t2070El0zj8P8EDxAOgBPT3DzL59Bz2gx3cv8QAP8ADo+VbQsy84bGY7t7dcEaoK8AAPrNMDKj2gZzMws++Bgp51BjtJzHnlAR4APaBnXxbYzHagR2CUHHmAB9bpAdADejYDM/seKOhZZ7CTxJxXHuAB0AN69mWBzWwHegRGyZEHeGCdHgA9oGczMLPvgYKedQY7Scx55QEeAD2gZ18W2Mx2oEdglBx5gAfW6QHQA3o2AzP7HijoWWewk8ScVx7gAdADevZlgc1sB3oERsmRB3hgnR4APaBnMzCz74GCnnUGO0nMeeUBHgA9oGdfFtjMdqBHYJQceYAH1ukB0AN6NgMz+x7ow9Bz+31n10x1NPB7P37ziQe24YE77j+71vj0/Dv/2FkP03u/8ovOepie9+wvOOthSvLgvgywue1AT2Xgk/C2kfCcZ+e5ceApQNYD8JQ+9gA8pY89AE/pI+iZQDnQA3rc2ljnrQ3n9cjnFfRUgyrQU7eCBHpAT51bV/vcAlQBUAHggW14APSAnkZvd4Ee0AN6JOJtJGLnebnzDHpAD+iZoItGV7m95faW2yBHvg0CRJYDkSW1Bj2gB/Q0SjYT3QI9oAf0gB4euIIHQA/oAT0TdNHoKtADeiS8KyS8JSsK9tVmpQj0gB7Q0yjZTHQL9IAe0AN6eOAKHgA9oAf0TNBFo6tAD+iR8K6Q8FRf2qy+LHleQA/oAT2Nks1Et0AP6AE9oIcHruAB0AN6QM8EXTS6CvSAHgnvCglvyYqCfbVZVQI9oAf0NEo2E90CPaAH9IAeHriCB0AP6AE9E3TR6CrQA3okvCskPNWXNqsvS54X0AN6QE+jZDPRLdADekAP6OGBK3gA9IAe0DNBF42uAj2gR8K7QsJbsqJgX21WlUAP6AE9jZLNRLdAD+gBPaCHB67gAdADekDPBF0cdYHDdwAADRxJREFUf9WXJHnFsJs/k+SL99kl6AE9Et4VEp7qS5vVlyXPC+gBPaBnH8w42jZPT/JTSd6W5CeTPG2fPYEe0AN6QA8PXMEDoAf0gJ59MOOo2zwiye9Icse+ewE9oEfCu0LCW7KiYF9tVpVAD+gBPfuiRvXtXpfklaNWS5WnVHxeP1p26SzoAT2gB/TwwBU8AHpAD+i5lCuWWLgLPd+W5FdAT2WguX2P9lyVt3lV7rw4L7U9AHpAD+hZgm8u3ccYej46yS8k+bIJ6HkgyYNlujN3nV3bJ5nbZj+dagdW7UnWPNCmB0AP6AE9lwLJEguvQ89tSb47yack+dwJ6Dnvk9tbe1RvDgE+CarNBOW8OC+1PQB6QA/oOWeJpWeuQ88nJvmhJI8EPZVhZl/wqR1YtSdZ80CbHgA9oAf0LM065/sr0PP3kvx4kv9yWKrSsy+o1NxOgmozQTkvzkttD4Ae0AN6ziFk6ZkCPQ8l+ZejHYOemjCzb1u1A6v2JGseaNMDoAf0gJ4Rciw7W6Dnt5J86Gi3oGdfUKm5nQTVZoJyXpyX2h4APaAH9IyQo5NZDzJXfvandmDVnmTNA216APSAHtDTCemMugl6QI8vprvCF9MBkTZBZMnzAnpAD+gZ0UQns6AH9IAe0MMDV/AA6AE9oKcT0hl1E/SAHgnvCglvyYqCfbVZVQI9oAf0jGiik1nQA3pAD+jhgSt4APSAHtDTCemMugl6QI+Ed4WEp/rSZvVlyfMCekAP6BnRRCezoAf0gB7QwwNX8ADoAT2gpxPSGXUT9IAeCe8KCW/JioJ9tVlVAj2gB/SMaKKTWdADekAP6OGBK3gA9IAe0NMJ6Yy6CXpAj4R3hYSn+tJm9WXJ8wJ6QA/oGdFEJ7OgB/SAHtDDA1fwAOgBPaCnE9IZdRP0gB4J7woJb8mKgn21WVUCPaAH9IxoopNZ0AN6QA/o4YEreAD0gB7Q0wnpjLoJekCPhHeFhKf60mb1ZcnzAnpAD+gZ0UQns91Az5LBzL4kNB7gAR5YzgMdAOS1O+4/+/j/8092MSV5sBMEWb6boMdVvkoPD/AAD5zUA6CnKkyBngmWAj2C3UmDnavp5a6maU3rVj0AekDPBKdUXQV6QA/o4QEe4IGTegD0gJ6qZDPRGOgR7E4a7Fq98tQvVREeWM4DoAf0THBK1VWgB/SAHh7gAR44qQdAD+ipSjYTjYEewe6kwc7V9HJX07SmdaseAD2gZ4JTqq4CPaAH9PAAD/DAST0AekBPVbKZaAz0CHYnDXatXnnql6oIDyznAdADeiY4peoq0AN6QA8P8AAPnNQDoAf0VCWbicZAj2B30mDnanq5q2la07pVD4Ae0DPBKVVXgR7QA3p4gAd44KQeAD2gpyrZTDQGegS7kwa7Vq889UtVhAeW8wDoAT0TnFJ1FegBPaCHB3iAB07qAdADeqqSzURjoEewO2mwczW93NU0rWndqgdAD+iZ4JSqq0AP6AE9PMADPHBSD4Ae0FOVbCYaAz2C3UmDXatXnvqlKsIDy3kA9ICeSzjl05L86CXLZy0CPaAH9PAAD/DAST0AekDPJSQDelx5LXflRWta8wAPLOUB0NMd9LxTksdfAio1F+1Cz5OS3Dl3Byo9rvBOeoW3VFC1HwmcB9r1AOjpAnruSHJvklcl+bUkzxkA5J2TfG2Sn0vyK0n+ZZIPHcHJJyV5KMkfTPL6JL+a5DuTvO9omzL76Ul+Ztj2m5J87s7trZcl+cVhX39g57N7vwU9oAf08AAP8MBJPQB6moaeD0zyhUl+aoCOv5vko5LcNkz/Ksm3J/nwJE9N8leT/HKSdx9IpEDP25L8r8M2z0jyb5O8dkQqH5fkrUlenuT9k3zW0Mb4mZ5HJPlDSf7hAF1vSPI5l8DTqNmLs6BHsDtpsHP13e7Vt3Pj3CzlAdDTHPQ8McmfTfLdA4x8W5L7Lrm99LyhMvOYHbz4d0Plpiwu0HOW5Gmjbf5Ykt8YoKks/j+SFJgavwokjaFnvK7cXvsTQ8XoN5O8bnj/uPFGo/kHkjxYpjtz19m12+9rf1pq8NmPQM8DPMADy3oA9DQHPeXWUgGVf53kfUbwsDv7F5P81gA+5RbW9amAyNcMGxfoecvOB587tP+EYfmbB2gZb1YqRjeDnvF2vy/JDwztlX1NvlR6VHpUeniAB3jgpB4APc1Bz3sMt5h+aACZv5/kBUnKcz3j12ck+enhtla5tTWe3nXYsIBIgaHx66MHSHmXYeGh0PPoJB+b5NVDxeh7kvy5JPeMd3LZPOgR7E4a7FxRL3tFTW96t+gB0NMc9Ix54fcn+aokbxoA50uSfPCwwfOHSs/vGn9gZ34f6Cm3t8rD0OPXd+xUesozRM8aKkgFksozRl+U5IPGH7rVPOgBPaCHB3iAB07qAdDTNPRc54hSXXlRkv95eDD52cMzOd+V5PuS/OfDQ8XPTPJ5Scr68toHeu4fKjZ/Ksn7JfnMSx5k/sThAebyIPMLL6k6Dbub/gN6BLuTBrsWrzr1STWEB5b1AOjpAnrGNFFuXZWHncvr7iRfnuQnhoee/1OSf5TkKcP6faCnbFpAp/zbe7kVVv4tfvdf1sstt/IA86wX6AE9oIcHeIAHTuoB0NMd9MwCj1N+GPQIdicNdq6ol72ipje9W/QA6AE9S4EQ6AE9oIcHeIAHTuoB0AN6QM/Odwe1eHWiT66aeYAHeGC+B0AP6AE9oOekV14C+fxATkMa8sB+HgA9oAf0gB7Q45YDD/DAJjwAekAP6AE9mwh2roT3uxKmE53W7AHQA3pAD+gBPa7yeYAHNuEB0AN6QA/o2USwW/PVq2NTneGB/TwAekAP6AE9oMdVPg/wwCY8AHpAD+gBPZsIdq6E97sSphOd1uwB0AN6QA/oAT2u8nmABzbhAdADekAP6NlEsFvz1atjU53hgf08AHpAD+gBPaDHVT4P8MAmPAB6QA/oAT2bCHauhPe7EqYTndbsAdADehaFnjUPJscmWfAAD/AAD2zIA0keXIohutvPw7+yviEzqJ64XcADPMADPLBmD4CeCRQDPQb/mge/Y+NvHuCBrXkA9IAepV3VPB7gAR7ggU14APSAnk0YfWtXM47XFTwP8AAPXPQA6AE9oMcVHg/wAA/wwCY8AHpAzyaM7orn4hUPTWjCAzywNQ+AHtADelzh8QAP8AAPbMIDoAf0bMLoW7uacbyu4HmAB3jgogdAD+gBPa7weIAHeIAHNuEB0AN6NmF0VzwXr3hoQhMe4IGteQD0gB7Q4wqPB3iAB3hgEx4APaBnE0bf2tWM43UFzwM8wAMXPQB6QA/ocYXHAzzAAzywCQ+AHtCzCaO74rl4xUMTmvAAD2zNA6AH9IAeV3g8wAM8wAOb8ADoAT2bMPrWrmYcryt4HuABHrjoAdADekCPKzwe4AEe4IFNeAD0gJ5NGN0Vz8UrHprQhAd4YGseAD2gB/S4wuMBHuABHtiEB0AP6NmE0bd2NeN4XcHzAA/wwEUPgJ6L0PPAIMqDd+YuQODqhwd4gAd4gAdW4gHQcxF6zpfcnXsYfSVGd8Vz8YqHJjThAR7YmgdAzzniXJwBPQLC1gKC4+V5HuCBNXsA9FxknfMloMfgX/Pgd2z8zQM8sDUPgJ5zxLk4A3oEhK0FBMfL8zzAA2v2AOi5yDrnS0CPwb/mwe/Y+JsHeGBrHgA954hzcQb0CAhbCwiOl+d5gAfW7AHQc5F1zpeAHoN/zYPfsfE3D/DA1jwAes4R5+IM6BEQthYQHC/P8wAPrNkDoOci65wvAT0G/5oHv2Pjbx7gga15APScI87FGdAjIGwtIDhenucBHlizB0DPRdY5XwJ6DP41D37Hxt88wANb8wDoOUecizOgR0DYWkBwvDzPAzywZg+Anousc74E9Bj8ax78jo2/eYAHtuYB0HOOOBdnQI+AsLWA4Hh5ngd4YM0eAD0XWed8Cegx+Nc8+B0bf/MAD2zNA6DnHHEuzoAeAWFrAcHx8jwP8MCaPQB6LrLO+RLQY/CvefA7Nv7mAR7YmgdAzzniXJwBPQLC1gKC4+V5HuCBNXsA9FxknfMloMfgX/Pgd2z8zQM8sDUPgJ5zxLk4A3oEhK0FBMfL8zzAA2v2AOi5yDrjJT8/CPRgxb8/WrGtmv3abUs/k11NrvqelvW0LOeAnvS86lg89ud4s31vlrzutaACZdD18NLPemeJlvW0LC3Rk551FajXGm/W07K01IuedY96Za31chL1s57xaFlPy9ISPelZV4F6rfFmPS1LS73oWfeoV9ZaLydRP+sZj5b1tCwt0ZOedRWo1xpv1tOytNSLnnWPemWtPdDJ8ehnvRNFy3palpboSc+6CtRrjTfraVla6kXPuketNQpQgAIUoAAFKEABClCAAhSgAAUoQAEKUIACFKAABShAAQpQgAIUoAAFKEABClCAAhSgAAUoQAEKUIACFKAABShAAQpQgAKrUuD/B5YjhYf4YzS5AAAAAElFTkSuQmCC)"
      ]
    },
    {
      "cell_type": "code",
      "metadata": {
        "id": "tnxXKDjq3jEL"
      },
      "source": [
        "import tensorflow as tf\n",
        "\n",
        "import matplotlib.pyplot as plt\n",
        "import matplotlib.ticker as ticker\n",
        "from sklearn.model_selection import train_test_split\n",
        "\n",
        "import pandas as pd\n",
        "\n",
        "import unicodedata\n",
        "import re\n",
        "import numpy as np\n",
        "import os\n",
        "import io\n",
        "import time"
      ],
      "execution_count": null,
      "outputs": []
    },
    {
      "cell_type": "code",
      "metadata": {
        "colab": {
          "base_uri": "https://localhost:8080/"
        },
        "id": "9xUZZA-KMudt",
        "outputId": "734054b9-aec1-4824-c12d-fd98cf3ec356"
      },
      "source": [
        "from google.colab import drive\n",
        "drive.mount('/content/drive')"
      ],
      "execution_count": null,
      "outputs": [
        {
          "output_type": "stream",
          "text": [
            "Mounted at /content/drive\n"
          ],
          "name": "stdout"
        }
      ]
    },
    {
      "cell_type": "markdown",
      "metadata": {
        "id": "5HMxX7iMb4r5"
      },
      "source": [
        "## Import and prepare dataset\n",
        " Dataset has formatted in other notebook and look like this :\n",
        "\n",
        " ```\n",
        "хязгааргүй, хязгаар + гүй\n",
        "```\n",
        "\n",
        "steps :\n",
        "1. Split every character of a word and then add start and end to every row of data (every word)\n",
        "2. Tokenize words\n",
        "3. Pad each tokenized word to a maximum length."
      ]
    },
    {
      "cell_type": "code",
      "metadata": {
        "id": "rd0jw-eC3jEh"
      },
      "source": [
        "def preprocess_sentence(w):  \n",
        "  # creating a space between a word and the punctuation following it\n",
        "  w = re.sub(r\"([?.!,¿])\", r\" \\1 \", w)\n",
        "  w = re.sub(r'[\" \"]+', \" \", w)\n",
        " \n",
        "  w = w.strip()\n",
        "\n",
        "  # adding a start and an end token to the sentence\n",
        "  # so that the model know when to start and stop predicting.\n",
        "  w = '<start> ' + w + ' <end>'\n",
        "  return w"
      ],
      "execution_count": null,
      "outputs": []
    },
    {
      "cell_type": "code",
      "metadata": {
        "id": "OHn4Dct23jEm"
      },
      "source": [
        "# Return word pairs\n",
        "def create_dataset(path, num_examples):\n",
        "  lines = io.open(path, encoding='UTF-8').read().strip().split('\\n')\n",
        "\n",
        "  word_pairs = [[preprocess_sentence(w) for w in l.split('\\t')]  for l in lines[1:num_examples]]\n",
        "\n",
        "  return zip(*word_pairs)"
      ],
      "execution_count": null,
      "outputs": []
    },
    {
      "cell_type": "code",
      "metadata": {
        "id": "bIOn8RCNDJXG"
      },
      "source": [
        "def tokenize(lang):\n",
        "  lang_tokenizer = tf.keras.preprocessing.text.Tokenizer(\n",
        "      filters='')\n",
        "  lang_tokenizer.fit_on_texts(lang)\n",
        "\n",
        "  tensor = lang_tokenizer.texts_to_sequences(lang)\n",
        "\n",
        "  tensor = tf.keras.preprocessing.sequence.pad_sequences(tensor,\n",
        "                                                         padding='post')\n",
        "\n",
        "  return tensor, lang_tokenizer"
      ],
      "execution_count": null,
      "outputs": []
    },
    {
      "cell_type": "code",
      "metadata": {
        "id": "eAY9k49G3jE_"
      },
      "source": [
        "def load_dataset(path, num_examples=None):\n",
        "  # creating cleaned input, output pairs\n",
        "  inp_lang, targ_lang = create_dataset(path, num_examples)\n",
        "\n",
        "  input_tensor, inp_lang_tokenizer = tokenize(inp_lang)\n",
        "  target_tensor, targ_lang_tokenizer = tokenize(targ_lang)\n",
        "\n",
        "  # print('####################################  test')\n",
        "  # for i in range(1000, 1005):\n",
        "  #   print('encoder -->', inp_lang[i])  \n",
        "  #   print('decoder -->', targ_lang[i])\n",
        "  \n",
        "  # print('####################################  test 2')\n",
        "  # for i in range(1000, 1005):\n",
        "  #   print(input_tensor[i])  \n",
        "  #   print(target_tensor[i])\n",
        "\n",
        "\n",
        "  return input_tensor, target_tensor, inp_lang_tokenizer, targ_lang_tokenizer"
      ],
      "execution_count": null,
      "outputs": []
    },
    {
      "cell_type": "markdown",
      "metadata": {
        "id": "NjE0YHIpfAFK"
      },
      "source": [
        "### See test data "
      ]
    },
    {
      "cell_type": "code",
      "metadata": {
        "id": "lJPmLZGMeD5q"
      },
      "source": [
        "def convert(lang, tensor):\n",
        "  for t in tensor:\n",
        "    if t!=0:\n",
        "      print (\"%d ----> %s\" % (t, lang.index_word[t]))"
      ],
      "execution_count": null,
      "outputs": []
    },
    {
      "cell_type": "markdown",
      "metadata": {
        "id": "Jux2hug0fRQf"
      },
      "source": [
        "### Load dataset, prepare and tokenize "
      ]
    },
    {
      "cell_type": "code",
      "metadata": {
        "colab": {
          "base_uri": "https://localhost:8080/"
        },
        "id": "g3F22-DlNUcJ",
        "outputId": "fa4f61ab-4d21-4753-d766-d3d3c5b75be0"
      },
      "source": [
        "excel = pd.read_csv( \"final.tsv\", \"\\t\", header = 0 )\n",
        "data = pd.DataFrame(excel, columns = ['input', 'output'] )\n",
        "\n",
        "num_examples = len(data)\n",
        "input_tensor, target_tensor, inp_lang, targ_lang = load_dataset(\"final.tsv\", num_examples)\n",
        "# Calculate max_length of the target tensors\n",
        "max_length_targ, max_length_inp = target_tensor.shape[1], input_tensor.shape[1]\n",
        "\n",
        "# Creating training and validation sets using an 80-20 split\n",
        "input_tensor_train, input_tensor_val, target_tensor_train, target_tensor_val = train_test_split(input_tensor, target_tensor, test_size=0.2)\n",
        "\n",
        "# Show length\n",
        "print(len(input_tensor), len(target_tensor))\n",
        "print(len(input_tensor_train), len(target_tensor_train), len(input_tensor_val), len(target_tensor_val))\n",
        "\n",
        "# Test\n",
        "print (\"Input Language; index to word mapping\")\n",
        "convert(inp_lang, input_tensor_train[3])\n",
        "print ()\n",
        "print (\"Target Language; index to word mapping\")\n",
        "convert(targ_lang, target_tensor_train[3])"
      ],
      "execution_count": null,
      "outputs": [
        {
          "output_type": "stream",
          "text": [
            "38127 38127\n",
            "30501 30501 7626 7626\n",
            "Input Language; index to word mapping\n",
            "2 ----> <start>\n",
            "24 ----> з\n",
            "1 ----> а\n",
            "7 ----> р\n",
            "4 ----> л\n",
            "1 ----> а\n",
            "6 ----> г\n",
            "1 ----> а\n",
            "3 ----> <end>\n",
            "\n",
            "Target Language; index to word mapping\n",
            "2 ----> <start>\n",
            "25 ----> з\n",
            "1 ----> а\n",
            "9 ----> р\n",
            "4 ----> +\n",
            "6 ----> л\n",
            "1 ----> а\n",
            "8 ----> г\n",
            "1 ----> а\n",
            "3 ----> <end>\n"
          ],
          "name": "stdout"
        }
      ]
    },
    {
      "cell_type": "markdown",
      "metadata": {
        "id": "rgCLkfv5uO3d"
      },
      "source": [
        "### Create a tf.data dataset"
      ]
    },
    {
      "cell_type": "code",
      "metadata": {
        "id": "TqHsArVZ3jFS"
      },
      "source": [
        "# BUFFER_SIZE = len(input_tensor_train)\n",
        "BUFFER_SIZE = 30501\n",
        "BATCH_SIZE = 128\n",
        "steps_per_epoch = len(input_tensor_train)//BATCH_SIZE\n",
        "embedding_dim = 256\n",
        "units = 1024\n",
        "vocab_inp_size = len(inp_lang.word_index)+1\n",
        "vocab_tar_size = len(targ_lang.word_index)+1\n",
        "\n",
        "dataset = tf.data.Dataset.from_tensor_slices((input_tensor_train, target_tensor_train)).shuffle(BUFFER_SIZE)\n",
        "dataset = dataset.batch(BATCH_SIZE, drop_remainder=True)"
      ],
      "execution_count": null,
      "outputs": []
    },
    {
      "cell_type": "code",
      "metadata": {
        "id": "qc6-NK1GtWQt",
        "colab": {
          "base_uri": "https://localhost:8080/"
        },
        "outputId": "a31cb149-39f6-42af-a516-962e459abc8f"
      },
      "source": [
        "example_input_batch, example_target_batch = next(iter(dataset))\n",
        "example_input_batch.shape, example_target_batch.shape"
      ],
      "execution_count": null,
      "outputs": [
        {
          "output_type": "execute_result",
          "data": {
            "text/plain": [
              "(TensorShape([128, 19]), TensorShape([128, 21]))"
            ]
          },
          "metadata": {
            "tags": []
          },
          "execution_count": 15
        }
      ]
    },
    {
      "cell_type": "code",
      "metadata": {
        "colab": {
          "base_uri": "https://localhost:8080/"
        },
        "id": "nq6rO5LPgAUu",
        "outputId": "32fa933a-a0d6-4ba3-8a70-8ab039e93a6f"
      },
      "source": [
        "print(len(input_tensor_train))\n",
        "print(inp_lang.word_index)\n",
        "print(len(inp_lang.word_index))"
      ],
      "execution_count": null,
      "outputs": [
        {
          "output_type": "stream",
          "text": [
            "30501\n",
            "{'а': 1, '<start>': 2, '<end>': 3, 'л': 4, 'э': 5, 'г': 6, 'р': 7, 'у': 8, 'о': 9, 'и': 10, 'н': 11, 'д': 12, 'т': 13, 'х': 14, 'й': 15, 'с': 16, 'ө': 17, 'м': 18, 'ү': 19, 'в': 20, 'ц': 21, 'ч': 22, 'б': 23, 'з': 24, 'ж': 25, 'ш': 26, 'ы': 27, 'я': 28, 'е': 29, 'ь': 30, 'к': 31, 'ё': 32, 'ъ': 33, 'п': 34, 'ф': 35, 'ю': 36, '\\xa0': 37, '-': 38, '(': 39, '.': 40}\n",
            "40\n"
          ],
          "name": "stdout"
        }
      ]
    },
    {
      "cell_type": "markdown",
      "metadata": {
        "id": "TNfHIF71ulLu"
      },
      "source": [
        "## Write the encoder and decoder model\n",
        "\n",
        "Implement an encoder-decoder model with attention which you can read about in the TensorFlow [Neural Machine Translation (seq2seq) tutorial](https://github.com/tensorflow/nmt). This example uses a more recent set of APIs. This notebook implements the [attention equations](https://github.com/tensorflow/nmt#background-on-the-attention-mechanism) from the seq2seq tutorial. The following diagram shows that each input words is assigned a weight by the attention mechanism which is then used by the decoder to predict the next word in the sentence. The below picture and formulas are an example of attention mechanism from [Luong's paper](https://arxiv.org/abs/1508.04025v5). \n",
        "\n",
        "<img src=\"https://www.tensorflow.org/images/seq2seq/attention_mechanism.jpg\" width=\"500\" alt=\"attention mechanism\">\n",
        "\n",
        "The input is put through an encoder model which gives us the encoder output of shape *(batch_size, max_length, hidden_size)* and the encoder hidden state of shape *(batch_size, hidden_size)*.\n",
        "\n",
        "Here are the equations that are implemented:\n",
        "\n",
        "<img src=\"https://www.tensorflow.org/images/seq2seq/attention_equation_0.jpg\" alt=\"attention equation 0\" width=\"800\">\n",
        "<img src=\"https://www.tensorflow.org/images/seq2seq/attention_equation_1.jpg\" alt=\"attention equation 1\" width=\"800\">\n",
        "\n",
        "This tutorial uses [Bahdanau attention](https://arxiv.org/pdf/1409.0473.pdf) for the encoder. Let's decide on notation before writing the simplified form:\n",
        "\n",
        "* FC = Fully connected (dense) layer\n",
        "* EO = Encoder output\n",
        "* H = hidden state\n",
        "* X = input to the decoder\n",
        "\n",
        "And the pseudo-code:\n",
        "\n",
        "* `score = FC(tanh(FC(EO) + FC(H)))`\n",
        "* `attention weights = softmax(score, axis = 1)`. Softmax by default is applied on the last axis but here we want to apply it on the *1st axis*, since the shape of score is *(batch_size, max_length, hidden_size)*. `Max_length` is the length of our input. Since we are trying to assign a weight to each input, softmax should be applied on that axis.\n",
        "* `context vector = sum(attention weights * EO, axis = 1)`. Same reason as above for choosing axis as 1.\n",
        "* `embedding output` = The input to the decoder X is passed through an embedding layer.\n",
        "* `merged vector = concat(embedding output, context vector)`\n",
        "* This merged vector is then given to the GRU\n",
        "\n",
        "The shapes of all the vectors at each step have been specified in the comments in the code:"
      ]
    },
    {
      "cell_type": "code",
      "metadata": {
        "id": "nZ2rI24i3jFg"
      },
      "source": [
        "class Encoder(tf.keras.Model):\n",
        "  def __init__(self, vocab_size, embedding_dim, enc_units, batch_sz):\n",
        "    super(Encoder, self).__init__()\n",
        "    self.batch_sz = batch_sz\n",
        "    self.enc_units = enc_units\n",
        "    self.embedding = tf.keras.layers.Embedding(vocab_size, embedding_dim)\n",
        "    self.gru = tf.keras.layers.GRU(self.enc_units,\n",
        "                                   return_sequences=True,\n",
        "                                   return_state=True,\n",
        "                                   recurrent_initializer='glorot_uniform')\n",
        "\n",
        "  def call(self, x, hidden):\n",
        "    x = self.embedding(x)\n",
        "    output, state = self.gru(x, initial_state = hidden)\n",
        "    return output, state\n",
        "\n",
        "  def initialize_hidden_state(self):\n",
        "    return tf.zeros((self.batch_sz, self.enc_units))"
      ],
      "execution_count": null,
      "outputs": []
    },
    {
      "cell_type": "code",
      "metadata": {
        "colab": {
          "base_uri": "https://localhost:8080/"
        },
        "id": "60gSVh05Jl6l",
        "outputId": "563b17ff-8dc8-4ce7-b73e-c217704442fb"
      },
      "source": [
        "encoder = Encoder(vocab_inp_size, embedding_dim, units, BATCH_SIZE)\n",
        "\n",
        "# sample input\n",
        "sample_hidden = encoder.initialize_hidden_state()\n",
        "sample_output, sample_hidden = encoder(example_input_batch, sample_hidden)\n",
        "print ('Encoder output shape: (batch size, sequence length, units) {}'.format(sample_output.shape))\n",
        "print ('Encoder Hidden state shape: (batch size, units) {}'.format(sample_hidden.shape))"
      ],
      "execution_count": null,
      "outputs": [
        {
          "output_type": "stream",
          "text": [
            "Encoder output shape: (batch size, sequence length, units) (128, 19, 1024)\n",
            "Encoder Hidden state shape: (batch size, units) (128, 1024)\n"
          ],
          "name": "stdout"
        }
      ]
    },
    {
      "cell_type": "code",
      "metadata": {
        "id": "umohpBN2OM94"
      },
      "source": [
        "class BahdanauAttention(tf.keras.layers.Layer):\n",
        "  def __init__(self, units):\n",
        "    super(BahdanauAttention, self).__init__()\n",
        "    self.W1 = tf.keras.layers.Dense(units)\n",
        "    self.W2 = tf.keras.layers.Dense(units)\n",
        "    self.V = tf.keras.layers.Dense(1)\n",
        "\n",
        "  def call(self, query, values):\n",
        "    # query hidden state shape == (batch_size, hidden size)\n",
        "    # query_with_time_axis shape == (batch_size, 1, hidden size)\n",
        "    # values shape == (batch_size, max_len, hidden size)\n",
        "    # we are doing this to broadcast addition along the time axis to calculate the score\n",
        "    query_with_time_axis = tf.expand_dims(query, 1)\n",
        "\n",
        "    # score shape == (batch_size, max_length, 1)\n",
        "    # we get 1 at the last axis because we are applying score to self.V\n",
        "    # the shape of the tensor before applying self.V is (batch_size, max_length, units)\n",
        "    score = self.V(tf.nn.tanh(\n",
        "        self.W1(query_with_time_axis) + self.W2(values)))\n",
        "\n",
        "    # attention_weights shape == (batch_size, max_length, 1)\n",
        "    attention_weights = tf.nn.softmax(score, axis=1)\n",
        "\n",
        "    # context_vector shape after sum == (batch_size, hidden_size)\n",
        "    context_vector = attention_weights * values\n",
        "    context_vector = tf.reduce_sum(context_vector, axis=1)\n",
        "\n",
        "    return context_vector, attention_weights"
      ],
      "execution_count": null,
      "outputs": []
    },
    {
      "cell_type": "code",
      "metadata": {
        "colab": {
          "base_uri": "https://localhost:8080/"
        },
        "id": "k534zTHiDjQU",
        "outputId": "2cf4ae1b-a191-4161-ad55-3e74539d4b38"
      },
      "source": [
        "attention_layer = BahdanauAttention(10)\n",
        "attention_result, attention_weights = attention_layer(sample_hidden, sample_output)\n",
        "\n",
        "print(\"Attention result shape: (batch size, units) {}\".format(attention_result.shape))\n",
        "print(\"Attention weights shape: (batch_size, sequence_length, 1) {}\".format(attention_weights.shape))"
      ],
      "execution_count": null,
      "outputs": [
        {
          "output_type": "stream",
          "text": [
            "Attention result shape: (batch size, units) (128, 1024)\n",
            "Attention weights shape: (batch_size, sequence_length, 1) (128, 19, 1)\n"
          ],
          "name": "stdout"
        }
      ]
    },
    {
      "cell_type": "code",
      "metadata": {
        "id": "yJ_B3mhW3jFk"
      },
      "source": [
        "class Decoder(tf.keras.Model):\n",
        "  def __init__(self, vocab_size, embedding_dim, dec_units, batch_sz):\n",
        "    super(Decoder, self).__init__()\n",
        "    self.batch_sz = batch_sz\n",
        "    self.dec_units = dec_units\n",
        "    self.embedding = tf.keras.layers.Embedding(vocab_size, embedding_dim)\n",
        "    self.gru = tf.keras.layers.GRU(self.dec_units,\n",
        "                                   return_sequences=True,\n",
        "                                   return_state=True,\n",
        "                                   recurrent_initializer='glorot_uniform')\n",
        "    self.fc = tf.keras.layers.Dense(vocab_size)\n",
        "\n",
        "    # used for attention\n",
        "    self.attention = BahdanauAttention(self.dec_units)\n",
        "\n",
        "  def call(self, x, hidden, enc_output):\n",
        "    # enc_output shape == (batch_size, max_length, hidden_size)\n",
        "    context_vector, attention_weights = self.attention(hidden, enc_output)\n",
        "\n",
        "    # x shape after passing through embedding == (batch_size, 1, embedding_dim)\n",
        "    x = self.embedding(x)\n",
        "\n",
        "    # x shape after concatenation == (batch_size, 1, embedding_dim + hidden_size)\n",
        "    x = tf.concat([tf.expand_dims(context_vector, 1), x], axis=-1)\n",
        "\n",
        "    # passing the concatenated vector to the GRU\n",
        "    output, state = self.gru(x)\n",
        "\n",
        "    # output shape == (batch_size * 1, hidden_size)\n",
        "    output = tf.reshape(output, (-1, output.shape[2]))\n",
        "\n",
        "    # output shape == (batch_size, vocab)\n",
        "    x = self.fc(output)\n",
        "\n",
        "    return x, state, attention_weights"
      ],
      "execution_count": null,
      "outputs": []
    },
    {
      "cell_type": "code",
      "metadata": {
        "colab": {
          "base_uri": "https://localhost:8080/"
        },
        "id": "P5UY8wko3jFp",
        "outputId": "79614abc-fb94-44f6-ca24-603467cb2801"
      },
      "source": [
        "decoder = Decoder(vocab_tar_size, embedding_dim, units, BATCH_SIZE)\n",
        "\n",
        "sample_decoder_output, _, _ = decoder(tf.random.uniform((BATCH_SIZE, 1)),\n",
        "                                      sample_hidden, sample_output)\n",
        "\n",
        "print ('Decoder output shape: (batch_size, vocab size) {}'.format(sample_decoder_output.shape))"
      ],
      "execution_count": null,
      "outputs": [
        {
          "output_type": "stream",
          "text": [
            "Decoder output shape: (batch_size, vocab size) (128, 42)\n"
          ],
          "name": "stdout"
        }
      ]
    },
    {
      "cell_type": "markdown",
      "metadata": {
        "id": "_ch_71VbIRfK"
      },
      "source": [
        "## Define the optimizer and the loss function"
      ]
    },
    {
      "cell_type": "code",
      "metadata": {
        "id": "WmTHr5iV3jFr"
      },
      "source": [
        "optimizer = tf.keras.optimizers.Adam()\n",
        "loss_object = tf.keras.losses.SparseCategoricalCrossentropy(\n",
        "    from_logits=True, reduction='none')\n",
        "\n",
        "def loss_function(real, pred):\n",
        "  mask = tf.math.logical_not(tf.math.equal(real, 0))\n",
        "  loss_ = loss_object(real, pred)\n",
        "\n",
        "  mask = tf.cast(mask, dtype=loss_.dtype)\n",
        "  loss_ *= mask\n",
        "\n",
        "  return tf.reduce_mean(loss_)"
      ],
      "execution_count": null,
      "outputs": []
    },
    {
      "cell_type": "markdown",
      "metadata": {
        "id": "DMVWzzsfNl4e"
      },
      "source": [
        "## Checkpoints (Object-based saving)"
      ]
    },
    {
      "cell_type": "code",
      "metadata": {
        "id": "Zj8bXQTgNwrF"
      },
      "source": [
        "checkpoint_dir = '/content/drive/My Drive/hicheel/diplom/data/training_checkpoints'\n",
        "checkpoint_prefix = os.path.join(checkpoint_dir, \"ckpt\")\n",
        "checkpoint = tf.train.Checkpoint(optimizer=optimizer,\n",
        "                                 encoder=encoder,\n",
        "                                 decoder=decoder)"
      ],
      "execution_count": null,
      "outputs": []
    },
    {
      "cell_type": "markdown",
      "metadata": {
        "id": "hpObfY22IddU"
      },
      "source": [
        "## Training\n",
        "\n",
        "1. Pass the *input* through the *encoder* which return *encoder output* and the *encoder hidden state*.\n",
        "2. The encoder output, encoder hidden state and the decoder input (which is the *start token*) is passed to the decoder.\n",
        "3. The decoder returns the *predictions* and the *decoder hidden state*.\n",
        "4. The decoder hidden state is then passed back into the model and the predictions are used to calculate the loss.\n",
        "5. Use *teacher forcing* to decide the next input to the decoder.\n",
        "6. *Teacher forcing* is the technique where the *target word* is passed as the *next input* to the decoder.\n",
        "7. The final step is to calculate the gradients and apply it to the optimizer and backpropagate."
      ]
    },
    {
      "cell_type": "code",
      "metadata": {
        "id": "sC9ArXSsVfqn"
      },
      "source": [
        "@tf.function\n",
        "def train_step(inp, targ, enc_hidden):\n",
        "  loss = 0\n",
        "\n",
        "  with tf.GradientTape() as tape:\n",
        "    enc_output, enc_hidden = encoder(inp, enc_hidden)\n",
        "\n",
        "    dec_hidden = enc_hidden\n",
        "\n",
        "    dec_input = tf.expand_dims([targ_lang.word_index['<start>']] * BATCH_SIZE, 1)\n",
        "\n",
        "    # Teacher forcing - feeding the target as the next input\n",
        "    for t in range(1, targ.shape[1]):\n",
        "      # passing enc_output to the decoder\n",
        "      predictions, dec_hidden, _ = decoder(dec_input, dec_hidden, enc_output)\n",
        "\n",
        "      loss += loss_function(targ[:, t], predictions)\n",
        "\n",
        "      # using teacher forcing\n",
        "      dec_input = tf.expand_dims(targ[:, t], 1)\n",
        "\n",
        "  batch_loss = (loss / int(targ.shape[1]))\n",
        "\n",
        "  variables = encoder.trainable_variables + decoder.trainable_variables\n",
        "\n",
        "  gradients = tape.gradient(loss, variables)\n",
        "\n",
        "  optimizer.apply_gradients(zip(gradients, variables))\n",
        "\n",
        "  return batch_loss"
      ],
      "execution_count": null,
      "outputs": []
    },
    {
      "cell_type": "code",
      "metadata": {
        "id": "g5JYQLabqb65"
      },
      "source": [
        "def Callback_EarlyStopping(LossList, min_delta=0.3, patience=10):\n",
        "    #No early stopping for 2*patience epochs \n",
        "    if len(LossList)//patience < 2 :\n",
        "        return False\n",
        "    #Mean loss for last patience epochs and second-last patience epochs\n",
        "    mean_previous = np.mean(LossList[::-1][patience:2*patience]) #second-last\n",
        "    mean_recent = np.mean(LossList[::-1][:patience]) #last\n",
        "    #you can use relative or absolute change\n",
        "    # delta_abs = np.abs(mean_recent - mean_previous) #abs change\n",
        "    delta_abs = np.abs(delta_abs / mean_previous)  # relative change\n",
        "    if delta_abs < min_delta :\n",
        "        print(\"*CB_ES* Loss didn't change much from last %d epochs\"%(patience))\n",
        "        print(\"*CB_ES* Percent change in loss value:\", delta_abs*1e2)\n",
        "        return True\n",
        "    else:\n",
        "        return False"
      ],
      "execution_count": null,
      "outputs": []
    },
    {
      "cell_type": "code",
      "metadata": {
        "id": "ddefjBMa3jF0",
        "colab": {
          "base_uri": "https://localhost:8080/"
        },
        "outputId": "472f3d56-0df3-4f77-ed99-e50b5b03198d"
      },
      "source": [
        "EPOCHS = 50\n",
        "\n",
        "loss_list = []\n",
        "\n",
        "for epoch in range(EPOCHS):\n",
        "  start = time.time()\n",
        "\n",
        "  enc_hidden = encoder.initialize_hidden_state()\n",
        "  total_loss = 0\n",
        "\n",
        "  for (batch, (inp, targ)) in enumerate(dataset.take(steps_per_epoch)):\n",
        "    batch_loss = train_step(inp, targ, enc_hidden)\n",
        "    total_loss += batch_loss\n",
        "\n",
        "    # if batch % 100 == 0:\n",
        "    #   print('Epoch {} Batch {} Loss {:.4f}'.format(epoch + 1,\n",
        "    #                                                batch,\n",
        "    #                                                batch_loss.numpy()))\n",
        "  # saving (checkpoint) the model every 2 epochs\n",
        "  checkpoint.save(file_prefix = checkpoint_prefix)\n",
        "  \n",
        "  # add loss to loss_list \n",
        "  loss_list.append( total_loss / steps_per_epoch )\n",
        "\n",
        "  print('Epoch {} Loss {:.4f}'.format(epoch + 1,\n",
        "                                      total_loss / steps_per_epoch))\n",
        "  print('Time taken for 1 epoch {} sec\\n'.format(time.time() - start))\n",
        "\n",
        "  stopEarly = Callback_EarlyStopping(loss_list)\n",
        "  if stopEarly:\n",
        "    print(\"Early Stop signal recievet at epoch = {}\".format(epoch+1) )\n",
        "    break;"
      ],
      "execution_count": null,
      "outputs": [
        {
          "output_type": "stream",
          "text": [
            "Epoch 1 Loss 1.1426\n",
            "Time taken for 1 epoch 67.6128785610199 sec\n",
            "\n",
            "Epoch 2 Loss 0.4086\n",
            "Time taken for 1 epoch 48.028963804244995 sec\n",
            "\n",
            "Epoch 3 Loss 0.0962\n",
            "Time taken for 1 epoch 48.82953095436096 sec\n",
            "\n",
            "Epoch 4 Loss 0.0376\n",
            "Time taken for 1 epoch 48.65461587905884 sec\n",
            "\n",
            "Epoch 5 Loss 0.0278\n",
            "Time taken for 1 epoch 48.40976071357727 sec\n",
            "\n",
            "Epoch 6 Loss 0.0219\n",
            "Time taken for 1 epoch 48.56623387336731 sec\n",
            "\n",
            "Epoch 7 Loss 0.0225\n",
            "Time taken for 1 epoch 49.05870056152344 sec\n",
            "\n",
            "Epoch 8 Loss 0.0291\n",
            "Time taken for 1 epoch 49.01731324195862 sec\n",
            "\n",
            "Epoch 9 Loss 0.0212\n",
            "Time taken for 1 epoch 48.80835437774658 sec\n",
            "\n",
            "Epoch 10 Loss 0.0131\n",
            "Time taken for 1 epoch 48.805973291397095 sec\n",
            "\n",
            "Epoch 11 Loss 0.0181\n",
            "Time taken for 1 epoch 49.28279495239258 sec\n",
            "\n",
            "Epoch 12 Loss 0.0142\n",
            "Time taken for 1 epoch 48.57927083969116 sec\n",
            "\n",
            "Epoch 13 Loss 0.0091\n",
            "Time taken for 1 epoch 48.48882341384888 sec\n",
            "\n",
            "Epoch 14 Loss 0.0080\n",
            "Time taken for 1 epoch 49.1584689617157 sec\n",
            "\n",
            "Epoch 15 Loss 0.0072\n",
            "Time taken for 1 epoch 48.69665479660034 sec\n",
            "\n",
            "Epoch 16 Loss 0.0067\n",
            "Time taken for 1 epoch 48.781089305877686 sec\n",
            "\n",
            "Epoch 17 Loss 0.0076\n",
            "Time taken for 1 epoch 49.25841927528381 sec\n",
            "\n",
            "Epoch 18 Loss 0.0093\n",
            "Time taken for 1 epoch 48.88450860977173 sec\n",
            "\n",
            "Epoch 19 Loss 0.0080\n",
            "Time taken for 1 epoch 49.11693358421326 sec\n",
            "\n",
            "Epoch 20 Loss 0.0076\n",
            "Time taken for 1 epoch 48.864904165267944 sec\n",
            "\n",
            "Epoch 21 Loss 0.0069\n",
            "Time taken for 1 epoch 48.704442501068115 sec\n",
            "\n",
            "Epoch 22 Loss 0.0084\n",
            "Time taken for 1 epoch 49.150450229644775 sec\n",
            "\n",
            "Epoch 23 Loss 0.0095\n",
            "Time taken for 1 epoch 48.80166959762573 sec\n",
            "\n",
            "Epoch 24 Loss 0.0068\n",
            "Time taken for 1 epoch 48.90214800834656 sec\n",
            "\n",
            "Epoch 25 Loss 0.0098\n",
            "Time taken for 1 epoch 49.056928873062134 sec\n",
            "\n",
            "Epoch 26 Loss 0.0065\n",
            "Time taken for 1 epoch 48.71713900566101 sec\n",
            "\n",
            "Epoch 27 Loss 0.0053\n",
            "Time taken for 1 epoch 48.87196707725525 sec\n",
            "\n",
            "Epoch 28 Loss 0.0045\n",
            "Time taken for 1 epoch 49.077353954315186 sec\n",
            "\n",
            "Epoch 29 Loss 0.0051\n",
            "Time taken for 1 epoch 48.797600984573364 sec\n",
            "\n",
            "Epoch 30 Loss 0.0056\n",
            "Time taken for 1 epoch 48.66395545005798 sec\n",
            "\n",
            "*CB_ES* Loss didn't change much from last 10 epochs\n",
            "*CB_ES* Percent change in loss value: 28.4809410572052\n",
            "Early Stop signal recievet at epoch = 30\n"
          ],
          "name": "stdout"
        }
      ]
    },
    {
      "cell_type": "markdown",
      "metadata": {
        "id": "mU3Ce8M6I3rz"
      },
      "source": [
        "## Translate\n",
        "\n",
        "* The evaluate function is similar to the training loop, except we don't use *teacher forcing* here. The input to the decoder at each time step is its previous predictions along with the hidden state and the encoder output.\n",
        "* Stop predicting when the model predicts the *end token*.\n",
        "* And store the *attention weights for every time step*.\n",
        "\n",
        "Note: The encoder output is calculated only once for one input."
      ]
    },
    {
      "cell_type": "code",
      "metadata": {
        "id": "EPm_k_Bs8l9O",
        "colab": {
          "base_uri": "https://localhost:8080/",
          "height": 548
        },
        "outputId": "71fb6bc0-cfdd-4b97-8731-3629c0d03e16"
      },
      "source": [
        "plt.figure(figsize=(10, 8), dpi=80)\n",
        "\n",
        "plt.plot(loss_list)\n",
        "\n",
        "plt.ylabel('loss')\n",
        "plt.xlabel('epoch')\n",
        "\n",
        "plt.show()"
      ],
      "execution_count": null,
      "outputs": [
        {
          "output_type": "display_data",
          "data": {
            "image/png": "[encoded data removed]",
            "text/plain": [
              "<Figure size 800x640 with 1 Axes>"
            ]
          },
          "metadata": {
            "tags": [],
            "needs_background": "light"
          }
        }
      ]
    },
    {
      "cell_type": "code",
      "metadata": {
        "id": "EbQpyYs13jF_"
      },
      "source": [
        "def evaluate(sentence):\n",
        "  print(sentence)\n",
        "  attention_plot = np.zeros((max_length_targ, max_length_inp))\n",
        "\n",
        "  sentence = preprocess_sentence(sentence)\n",
        "  \n",
        "  inputs = [inp_lang.word_index[i] for i in sentence.split(' ')]\n",
        "  \n",
        "  inputs = tf.keras.preprocessing.sequence.pad_sequences([inputs],\n",
        "                                                         maxlen=max_length_inp,\n",
        "                                                         padding='post')\n",
        "  inputs = tf.convert_to_tensor(inputs)\n",
        "\n",
        "  result = ''\n",
        "\n",
        "  hidden = [tf.zeros((1, units))]\n",
        "  enc_out, enc_hidden = encoder(inputs, hidden)\n",
        "\n",
        "  dec_hidden = enc_hidden\n",
        "  dec_input = tf.expand_dims([targ_lang.word_index['<start>']], 0)\n",
        "\n",
        "  for t in range(max_length_targ):\n",
        "    predictions, dec_hidden, attention_weights = decoder(dec_input,\n",
        "                                                         dec_hidden,\n",
        "                                                         enc_out)\n",
        "\n",
        "    # storing the attention weights to plot later on\n",
        "    attention_weights = tf.reshape(attention_weights, (-1, ))\n",
        "    attention_plot[t] = attention_weights.numpy()\n",
        "\n",
        "    predicted_id = tf.argmax(predictions[0]).numpy()\n",
        "\n",
        "    result += targ_lang.index_word[predicted_id] + ' '\n",
        "\n",
        "    if targ_lang.index_word[predicted_id] == '<end>':\n",
        "      return result, sentence, attention_plot\n",
        "\n",
        "    # the predicted ID is fed back into the model\n",
        "    dec_input = tf.expand_dims([predicted_id], 0)\n",
        "\n",
        "  return result, sentence, attention_plot"
      ],
      "execution_count": null,
      "outputs": []
    },
    {
      "cell_type": "code",
      "metadata": {
        "id": "s5hQWlbN3jGF"
      },
      "source": [
        "# function for plotting the attention weights\n",
        "def plot_attention(attention, sentence, predicted_sentence):\n",
        "  fig = plt.figure(figsize=(10,10))\n",
        "  ax = fig.add_subplot(1, 1, 1)\n",
        "  ax.matshow(attention, cmap='viridis')\n",
        "\n",
        "  fontdict = {'fontsize': 14}\n",
        "\n",
        "  ax.set_xticklabels([''] + sentence, fontdict=fontdict, rotation=90)\n",
        "  ax.set_yticklabels([''] + predicted_sentence, fontdict=fontdict)\n",
        "\n",
        "  ax.xaxis.set_major_locator(ticker.MultipleLocator(1))\n",
        "  ax.yaxis.set_major_locator(ticker.MultipleLocator(1))\n",
        "\n",
        "  plt.show()"
      ],
      "execution_count": null,
      "outputs": []
    },
    {
      "cell_type": "code",
      "metadata": {
        "id": "sl9zUHzg3jGI"
      },
      "source": [
        "def translate(sentence):\n",
        "  result, sentence, attention_plot = evaluate(sentence)\n",
        "\n",
        "  print('Input: %s' % (sentence))\n",
        "  print('Predicted translation: {}'.format(result))\n",
        "\n",
        "  attention_plot = attention_plot[:len(result.split(' ')), :len(sentence.split(' '))]\n",
        "  plot_attention(attention_plot, sentence.split(' '), result.split(' '))"
      ],
      "execution_count": null,
      "outputs": []
    },
    {
      "cell_type": "markdown",
      "metadata": {
        "id": "n250XbnjOaqP"
      },
      "source": [
        "## Restore the latest checkpoint and test"
      ]
    },
    {
      "cell_type": "code",
      "metadata": {
        "id": "UJpT9D5_OgP6",
        "colab": {
          "base_uri": "https://localhost:8080/"
        },
        "outputId": "f09cf552-ef4b-4b4a-aeaf-dc2d2e7e0264"
      },
      "source": [
        "# restoring the latest checkpoint in checkpoint_dir\n",
        "checkpoint.restore(tf.train.latest_checkpoint(checkpoint_dir))"
      ],
      "execution_count": null,
      "outputs": [
        {
          "output_type": "execute_result",
          "data": {
            "text/plain": [
              "<tensorflow.python.training.tracking.util.CheckpointLoadStatus at 0x7fe43ac27850>"
            ]
          },
          "metadata": {
            "tags": []
          },
          "execution_count": 27
        }
      ]
    },
    {
      "cell_type": "code",
      "metadata": {
        "id": "LZL67qZLw5YT",
        "colab": {
          "base_uri": "https://localhost:8080/",
          "height": 691
        },
        "outputId": "479fa5b3-68d4-428a-d6c6-3ee32e88a56c"
      },
      "source": [
        "translate(u'ө н г ө л ө н г ө ө')"
      ],
      "execution_count": null,
      "outputs": [
        {
          "output_type": "stream",
          "text": [
            "ө н г ө л ө н г ө ө\n",
            "Input: <start> ө н г ө л ө н г ө ө <end>\n",
            "Predicted translation: ө н г ө л ө х + н г ө ө <end> \n"
          ],
          "name": "stdout"
        },
        {
          "output_type": "display_data",
          "data": {
            "image/png": "[encoded data removed]",
            "text/plain": [
              "<Figure size 720x720 with 1 Axes>"
            ]
          },
          "metadata": {
            "tags": [],
            "needs_background": "light"
          }
        }
      ]
    },
    {
      "cell_type": "code",
      "metadata": {
        "id": "iUNpGi7WyS-D",
        "colab": {
          "base_uri": "https://localhost:8080/",
          "height": 691
        },
        "outputId": "5b629a40-82a7-4d5b-9560-380645af876b"
      },
      "source": [
        "translate(u'н э р')"
      ],
      "execution_count": null,
      "outputs": [
        {
          "output_type": "stream",
          "text": [
            "н э р\n",
            "Input: <start> н э р <end>\n",
            "Predicted translation: н э р <end> \n"
          ],
          "name": "stdout"
        },
        {
          "output_type": "display_data",
          "data": {
            "image/png": "[encoded data removed]",
            "text/plain": [
              "<Figure size 720x720 with 1 Axes>"
            ]
          },
          "metadata": {
            "tags": [],
            "needs_background": "light"
          }
        }
      ]
    },
    {
      "cell_type": "code",
      "metadata": {
        "id": "WrAM0FDomq3E",
        "colab": {
          "base_uri": "https://localhost:8080/",
          "height": 691
        },
        "outputId": "4600a005-99ea-47e2-f8e3-2c2ebbca1707"
      },
      "source": [
        "translate(u'т э т г э м ж э э р')"
      ],
      "execution_count": null,
      "outputs": [
        {
          "output_type": "stream",
          "text": [
            "т э т г э м ж э э р\n",
            "Input: <start> т э т г э м ж э э р <end>\n",
            "Predicted translation: т э т г э м ж + э э р <end> \n"
          ],
          "name": "stdout"
        },
        {
          "output_type": "display_data",
          "data": {
            "image/png": "[encoded data removed]",
            "text/plain": [
              "<Figure size 720x720 with 1 Axes>"
            ]
          },
          "metadata": {
            "tags": [],
            "needs_background": "light"
          }
        }
      ]
    },
    {
      "cell_type": "code",
      "metadata": {
        "id": "zSx2iM36EZQZ",
        "colab": {
          "base_uri": "https://localhost:8080/",
          "height": 691
        },
        "outputId": "0d193cf1-c76f-435c-b1ed-bcceca79208e"
      },
      "source": [
        "translate(u'х ү ү х д и й н')"
      ],
      "execution_count": null,
      "outputs": [
        {
          "output_type": "stream",
          "text": [
            "х ү ү х д и й н\n",
            "Input: <start> х ү ү х д и й н <end>\n",
            "Predicted translation: х ү ү х э д + и й н <end> \n"
          ],
          "name": "stdout"
        },
        {
          "output_type": "display_data",
          "data": {
            "image/png": "[encoded data removed]",
            "text/plain": [
              "<Figure size 720x720 with 1 Axes>"
            ]
          },
          "metadata": {
            "tags": [],
            "needs_background": "light"
          }
        }
      ]
    },
    {
      "cell_type": "code",
      "metadata": {
        "id": "A3LLCx3ZE0Ls",
        "colab": {
          "base_uri": "https://localhost:8080/",
          "height": 691
        },
        "outputId": "982cdb32-81e4-4004-a0d1-c9b21a012187"
      },
      "source": [
        "translate('г о р х и н д')"
      ],
      "execution_count": null,
      "outputs": [
        {
          "output_type": "stream",
          "text": [
            "г о р х и н д\n",
            "Input: <start> г о р х и н д <end>\n",
            "Predicted translation: г о р х и + д <end> \n"
          ],
          "name": "stdout"
        },
        {
          "output_type": "display_data",
          "data": {
            "image/png": "[encoded data removed]",
            "text/plain": [
              "<Figure size 720x720 with 1 Axes>"
            ]
          },
          "metadata": {
            "tags": [],
            "needs_background": "light"
          }
        }
      ]
    },
    {
      "cell_type": "code",
      "metadata": {
        "id": "DUQVLVqUE1YW",
        "colab": {
          "base_uri": "https://localhost:8080/",
          "height": 691
        },
        "outputId": "35fe0d8c-b261-4d5f-f666-2b44c3b542a3"
      },
      "source": [
        "translate('т ү г д э г')"
      ],
      "execution_count": null,
      "outputs": [
        {
          "output_type": "stream",
          "text": [
            "т ү г д э г\n",
            "Input: <start> т ү г д э г <end>\n",
            "Predicted translation: т ү г э х + д э г <end> \n"
          ],
          "name": "stdout"
        },
        {
          "output_type": "display_data",
          "data": {
            "image/png": "[encoded data removed]",
            "text/plain": [
              "<Figure size 720x720 with 1 Axes>"
            ]
          },
          "metadata": {
            "tags": [],
            "needs_background": "light"
          }
        }
      ]
    },
    {
      "cell_type": "markdown",
      "metadata": {
        "id": "pGueZg-hVPPP"
      },
      "source": [
        "# Calculate accuracy #"
      ]
    },
    {
      "cell_type": "code",
      "metadata": {
        "id": "XXRZja4JoUBN"
      },
      "source": [
        "# used to \n",
        "def getActualValue(lang, tensor):\n",
        "  seq = \"\"\n",
        "  for i in tensor:\n",
        "    if i==0: return seq\n",
        "    seq += lang.index_word[i] + \" \"\n",
        "\n",
        "def replace(sequence):\n",
        "  if sequence is None: return ''\n",
        "  prefix1 = \"<start> \"\n",
        "  prefix2 = \" <end>\"\n",
        "  return sequence.replace(prefix1, \"\").replace(prefix2, \"\")\n",
        "def compareStrings( actual, predicted ):\n",
        "  if actual is None or predicted is None:\n",
        "    return False\n",
        "  \n",
        "  actual = replace(actual)\n",
        "  predicted = replace(predicted)\n",
        "  return actual == predicted"
      ],
      "execution_count": null,
      "outputs": []
    },
    {
      "cell_type": "code",
      "metadata": {
        "id": "arb9FuK4jWNz",
        "colab": {
          "base_uri": "https://localhost:8080/"
        },
        "outputId": "e0a14117-0504-479d-97bd-d480e6a7edd9"
      },
      "source": [
        "lost_words = []\n",
        "lost_actual = []\n",
        "def test_predict(inputs):\n",
        "  inputs = tf.keras.preprocessing.sequence.pad_sequences([inputs],\n",
        "                                                         maxlen=max_length_inp,\n",
        "                                                         padding='post')\n",
        "  inputs = tf.convert_to_tensor(inputs)\n",
        "  result = ''\n",
        "\n",
        "  hidden = [tf.zeros((1, units))]\n",
        "  enc_out, enc_hidden = encoder(inputs, hidden)\n",
        "\n",
        "  dec_hidden = enc_hidden\n",
        "  dec_input = tf.expand_dims([targ_lang.word_index['<start>']], 0)\n",
        "\n",
        "  for t in range(max_length_targ):\n",
        "    predictions, dec_hidden, attention_weights = decoder(dec_input,\n",
        "                                                         dec_hidden,\n",
        "                                                         enc_out)\n",
        "\n",
        "    predicted_id = tf.argmax(predictions[0]).numpy()\n",
        "\n",
        "    result += targ_lang.index_word[predicted_id] + ' '\n",
        "\n",
        "    if targ_lang.index_word[predicted_id] == '<end>':\n",
        "      return result\n",
        "\n",
        "    # the predicted ID is fed back into the model\n",
        "    dec_input = tf.expand_dims([predicted_id], 0)\n",
        "\n",
        "  return result\n",
        "\n",
        "def evaluate_test():\n",
        "  accuracy = 0\n",
        "  sum = 0\n",
        "  test_data_size = len(input_tensor_val)\n",
        "  for i in range(test_data_size):\n",
        "    predicted_value = test_predict( input_tensor_val[i] )\n",
        "    actual_value = getActualValue(targ_lang, target_tensor_val[i])\n",
        "    isSame = compareStrings(actual_value, predicted_value)\n",
        "    if isSame: \n",
        "      accuracy = accuracy + 1\n",
        "    else:\n",
        "      lost_words.append( replace(predicted_value) )\n",
        "      lost_actual.append( replace(  getActualValue(inp_lang, input_tensor_val[i])  ) )\n",
        "    sum += 1\n",
        "  print(\"accuracy: \", accuracy)\n",
        "  print(\"sum: \", sum)\n",
        "\n",
        "evaluate_test()\n"
      ],
      "execution_count": null,
      "outputs": [
        {
          "output_type": "stream",
          "text": [
            "accuracy:  6992\n",
            "sum:  7626\n"
          ],
          "name": "stdout"
        }
      ]
    },
    {
      "cell_type": "code",
      "metadata": {
        "id": "O0JRy5KKwyHe",
        "colab": {
          "base_uri": "https://localhost:8080/"
        },
        "outputId": "3d63692c-0c2b-4ec4-a4aa-a7346e7b6319"
      },
      "source": [
        "print(lost_words)\n",
        "print(lost_actual)"
      ],
      "execution_count": null,
      "outputs": [
        {
          "output_type": "stream",
          "text": [
            "['а д и г + и й н ', 'и л б э ч и н ', 'д э в т э р + л э х ', 'х и й с в э р + т ', 'з ө ө л + р ө х ', 'у л а й р с а н ', 'о р л о х + л т ', 'г а н ц а а р + д а х ', 'л у й х а р ', 'а в х у у л а х + ш г ү й ', 'б ө н д ө г + т ', 'с а а х + л ', 'х ү ү д ', 'б у в т а н + н ', 'х ү й + т э н ', 'з о г д о й н ', 'с о н с о х + у у ', 'д ү р в э г ч и д + р ү ү ', 'г я л б а х ', 'с и м ф о з и и м а х + м ', 'г а ш и х + у у н ', 'х о л б о ц ', 'у р г а ц а ц + д ', 'х э в и й н + р ү ү ', 'ү з ү ү р г ү й ', 'д у р а н + д ', 'с э т г ч и х + л ч ', 'х ү л + э э с ', 'н о т л о х + г ', 'и л э р х и й л э х + г д э х ', 'б а й ц а а х + г ч ', 'т у й л + ы г ', 'ө в ө х + л ', 'д ү р э м + и й н ', 'с э ж а б и н и н ', 'о й д ', 'ч и г э э ', 'т о р + о о с ', 'т э э х + л э х ', 'т э м т р э х + ү ү л ', 'х ү ч + и й ', 'з э в и й н + р ү ү ', 'х у в ь с г а х + л ', 'г а ш у у д а л + т а й ', 'п и в о + о р ', 'б а л а р + т а х ', 'с у р г а х + и й г ', 'б э л + д э х ', 'с о ё л ж и х + с о н ', 'ш и н ж + э э ч ', 'а н г и л а х ', 'н ө х ө р с ө г ', 'а й х ш г а а р ', 'д о р г и о ', 'ш а а н + т а н + а ', 'с о н д г о й р о л г ү й ', 'д а м ч и н ', 'х ү ү р н э х + л ', 'з у г а а + г ', 'о д о о ', 'с о н д г о й р о л г ү й ', 'о в о р + о о ', 'а р и а ', 'т ө л ө в л ө г ө ө н + ө ө с ', 'м э д ү ү л э х + л э г ', 'ө в + г + д ', 'х о л б о + о о с ', 'а м и н ы ', 'б а й л д а а н ', 'д ү ү ж и л + р ү ү р ', 'х э л м э г д э х + ж э э ', 'т э с э х + э р ', 'т у й л + а а с ', 'э н э р э х + л г ү й ', 'н э в т р э х ', 'а в х у у л а х + н а ', 'з э р э г л э х + э э ', 'а м + а а р ', 'и д э в х ж ү ү л э х ', 'т э р э х + ү ү л э х ', 'т о в о й х + ё ', 'х ө т ө ч + ө ө ', 'с а а д + т а й ', 'о н о ш л о г о + о ', 'х э л м э г д э х + э э с э й ', 'м а с л + ы г ', 'т о р + л у у ', 'ш ү ү х + д э х ', 'з а а х + т ', 'т э м д э г л э х ', 'и р в э г э н э х + т э л ', 'н и й г э м ч л э х + л э л ', 'з а х и р г а а ', 'ү л д э э х ', 'ч и х э р л э х + л э г ', 'м ө г ө ө р с + д ө н + д ', 'ү з ү ү л э х + э р ', 'н э р г ү й ', 'ө г ү ү л э г д э х ү ү н ', 'у у р а г а х ', 'ч у у х + л г а ', 'а а в + т а й ', 'с о н и р х о г ч + и й г ', 'ү е ', 'б ү р э х + л ', 'т р а н с ф о р м а т о р + а а с + а а с ', 'х у р д а с г а г ч ', 'ү н э т э й ', 'с э ж и г л э г д э г ч ', 'т а й р д а д + р у у ', 'и л р ү ү л э х ', 'х у д а л д а а ', 'ж и ж и х + г ', 'г э р + э э ', 'м о р и о ', 'р а й н + н ', 'з у г а а + г а а ', 'у р а г + т ', 'о л ш р у у л а х ', 'б и ж + р ү ү ', 'ц у ц + л а х ', 'х у у ч и р с а н ', 'д а м ж у у л а х + г ч ', 'и л + д ', 'б ү ү д э г э р ', 'н о т л о н + г о о ', 'х а р ш + д ', 'ч а н г а а х ', 'к о ф е н + и й н ', 'т а а р у у х а н ', 'д а р у у л г а + р у у ', 'а в х у у л а х + ц г а а ', 'з а н а л х и й + л э х ', 'у р г а ц а г ', 'х а н а а ', 'п а л ь т о + о о ', 'б о г ц о о ', 'з о в л о н ', 'с о н и р х о г ч + и й н ', 'с о ё л г ү й ', 'у с т а й ', 'а р и л ж а а ', 'э м э э х + л ', 'т у с л а х + м ж ', 'а р з а й + а а н а н ', 'о н о в ч т о й н ', 'ц ө ө р ө х + ц ө ө ', 'ц о ч + о о х ', 'ж и ж и г с э г ч г э х ', 'и х + н х ', 'х э в и л + и й г ', 'д а м ж у у л а х ', 'з э в р ү ү н ', 'н ү д т э й н + р ү ү ', 'ч ө л ө ө т э й + и й ', 'т э р г ү ү л э г ч + и й г ', 'т а а л а м ж + т а й ', 'с э ж и г + л э х ', 'ө в ө р л ө х + м ө г ц ', 'и р в э г э н э х + е ', 'б э р х ш э э х + л ', 'х э л м э г д э х + л г ү й ', 'х э л м э г д э х + э э с э й ', 'ш о р г о + р у у ', 'н а р л а х + г ', 'б у л и н г а р + т ', 'м а с ш т а б т ', 'о н о в ч т о й ч т о й ч т о й ч т о й ч ', 'х а н г а л а х + у у н ', 'а ю у л т а й + р у у ', 'д ү р в э г ч и д + и й г ', 'у с л а х + г ч ', 'з э э л и й + и й н ', 'т о в о й х + о о с о й ', 'ү з ү ү л э х + н г э э ', 'т р и к + о ', 'с у д л а а ч ', 'ш о р г о + л о й ', 'д у т а г д а л + т а й ', 'д а р у у л г а + д ', 'у р х и д а х ', 'у й т г а р т а й + ы г ', 'а м ь т а й + р у у ', 'б а т а л г а а ', 'н я г т а р ш л а а ', 'м у ш г и а ', 'м а р г а а н ', 'а л с + л а х ', 'ш у у р х а й + л а х ', 'н я г + т ', 'т у р ш л а г а ', 'ш ү л т э х + л э г ', 'б у у р ь т а й ', 'ш у н а х + л г ү й ', 'х я м г а + т а й ', 'к о к т е й х + л ', 'д о р о й т л о о ', 'ч у л у у ж и х ', 'х у г а ц а а + г ү й ', 'б а р и в ч л а х ', 'ш а л т г а а н + г ү й ', 'а м с а х ', 'д э г + э э ', 'х а ш и л т ', 'ш и м п а н з + е ', 'ц э г ц + т э й ', 'г о л + д ', 'ц э в э р х э н ', 'б у л и н г а р т а й + а а с ', 'х а р д л а г а ', 'х и ч э э н + г ү й ', 'т ө л ө х + ү ү л э х ', 'у р + д ', 'ө р ш ө ө + г ү й ', 'х э р э г + э э р ', 'а ю у л + а а р ', 'г о н с о й л г о х ', 'т о р + о о р ', 'о р о н + р у у ', 'ө р с ө л д ө ө н + т э й н + т э й н + т ', 'ү н э г э э ', 'д у у л а х + а а ч ', 'х у в х а й + р а х ', 'х ү н д э т г э л т э й + э э с ', 'б о г и н о с о х + г о х ', 'о р + ы г ', 'ш а г н а х ', 'т о в о й х + л г ү й ', 'т э р г ү ү л э г ч + э э ', 'з у г а а + д ', 'г а ш у у д л а а ', 'а а в + а а р ', 'з у л г а а х + л а а ', 'х у в и р ш г ү й ', 'г и ж и г д э х ', 'о р о г н о х + н о ', 'д о л г и о ', 'з а в х а р с а н ', 'д а й н + д а н ', 'х я з а г + а а р ', 'х ү н д э т г э л т э й + э э р ', 'х о р о х + л о л ', 'о р о л д л о г о ', 'с а л г а х ', 'д о о + г ', 'х э т р э х и й ', 'н а й р л а г а ', 'з о р и г о о ', 'х а м а а р а х г ү й ', 'х э в и й н + д ', 'б ү т э э г д э х ү ү н ', 'ч а н г а л а х + у у р ', 'з а л и л а н ', 'ш а в х а г д а х г ү й ', 'х ө н г ө л ө х ', 'э д э л э г + э ', 'н а й р т а й + ы н ', 'б у ц а а х ', 'у р ц а а ', 'н у х л а х ', 'б а р т а а + т а й ', 'ү й м э л д э х ', 'а н + д ', 'х ө р ө н г ө т ө н + ө ө ', 'а я л а л ', 'х ө г + ж и л ', 'д о г о л о х ', 'с о н д г о й р о л г ү й ', 'х а р и у ', 'ү ү с г э х + л ', 'ш ө р ө х + м с ө с ', 'т а с л а л ', 'а м ь с г а л а х ', 'э г з э г + р ү ү ', 'т о р + т о й ', 'т р а н с ф о р м а т о а ', 'х о н ш + о о р ', 'а р и р а х + г у у ', 'г о з о о р ', 'ш ү г э х + л д э х ', 'э р в э э х + и й ', 'ш а л г у у л а х ', 'х а м т + ы н ', 'б у л и н г а р т а й + т а й ', 'д а л д л а х ', 'х а д + а а с ', 'э л е к т р + р ', 'д у н д а х + а а с ', 'х и й с э х + в э р ', 'а м ь ж и р г а а ', 'ү х э л ', 'б ө н д ө г ө р + и й н ', 'ш ү ү м ж л э х + г ч ', 'б у л и н г а р + а а р ', 'а н х + ы ', 'ё с о л г о + о ', 'м а н л а й л а г ч ', 'з а р + а а ', 'т о в о й х + ц г о о ', 'ө в ө р л ө х + с ө н ', 'з о р и г + о о р ', 'у х а г д а х а н ', 'х у в ь д ', 'т э н г э р э х + л э г ', 'х ө г ж и л т э й + р ү ү ', 'т а й р д а д + ы ', 'х ү ч э э р + и й г ', 'а й м ш и й + р у у ', 'э г з э г + э ', 'б а г ц а а р ', 'б ө н д ө х + г ө р ', 'т а н и л ц у у л г а ', 'з э м + л э х ', 'т о р + о о ', 'х э л э х ү й ', 'л а в ш а г а + т а н ', 'ц о х и х + о о ', 'х ө г т э й + ө ө с ', 'з о г с о о х ', 'з о х и м ж + т о й ', 'т о о ц о о л о х + л т ', 'с о н г у у л ь ', 'ц ө ө р ө х + м ө ө р ', 'ш а л т г и й г ', 'ү н э л э г + э ', 'у н а г а а ', 'з у л г а а х + м а г ц ', 'м ө р г ө л д ө ө н + т э й н + т э й н + ', 'ц э в э р л э г + э э ', 'з а л г а в а в а р ', 'г ү ж и р д л э х + и й н ', 'б ү т э э м ж ', 'и н э э д т э й ', 'а н ч и н ', 'ө ч ү ү н + х э н ', 'б а й н + н г а а ', 'д ү р в э г ч и й ', 'ч и г э э р + э э ', 'д э в с + л э х ', 'х а р и у х + л т ', 'х у в ь г ү й ', 'х о н о г о + о о с ', 'а л б а д а н ', 'д у у + г ү й ', 'ч а р м а й л т ', 'д о т н о с о х ', 'г а р г а ц + т а й ', 'х ү ч + э э с ', 'ш и н э + т э х ', 'н э р + т э й ', 'д о н с о л о х + г о о ', 'с о н и р х о л г ү й ', 'ц э в и х + д э г ', 'х а р у у л а х ', 'н и й + т ', 'а м ь + а а с ', 'б о р л о х + у у л а х ', 'т о л б о р + р у у ', 'г л ю к о + о о с ', 'б а й р а н + д ', 'ш у в т а н + н а х ', 'г ү н ж и х + ж э э ', 'а д и л х а н ', 'х а н г а л т г ү й ', 'х э м ж э э л э х + г ү й ', 'д у н + д ', 'х ө т ө л б ө р ', 'к а з и н о ч и н ', 'ц э в р ү ү + т э х ', 'х э т р э х ', 'т у л г у у р ', 'б о л о м ж + т о й ', 'д а р х л а л ', 'д о г ш и н ', 'з о р и г + т ', 'з о х и ц о х ', 'х э л м э г д э х + м э э р ', 'т о х и р о м ж т о й н ', 'г а д а г ш л а х + л т ', 'с а й д а а ', 'х ү ч + э э р ', 'б о д л о г о ш р о х + л ', 'н ү д т э й ', 'у й т г а р т а й + а а с ', 'э х и й + и й н ', 'ш а р х л а а ', 'о г т о л + о о с ', 'ө в ө р ө х + м ө х + м ө ц ', 'ж е л э л ', 'г ү ж и р д л э х + р ү ү ', 'т о н о г л о х ', 'з а г а т н у у л а х ', 'у р л а х + л ', 'н э в т р ү ү л э х ', 'а ж и л л а х + у у л ', 'а н г и л а х + л т ', 'г о л + о о ', 'б ү т э м ж и й н ', 'х у ш г а а ', 'х о л ь ц ', 'х э л м э г д э х + ц г э э ', 'о н ц + л о х ', 'ш о н + г о + о ', 'х э м + н э х ', 'б а й н г ы н ', 'н ү д + и й ', 'т о в о й х + ч и х ', 'х ө д ө л м ө р ч и н ', 'б ө ө г н ө р ө х + ү ү л э х ', 'с ө р г ө л д ө ө н + ө ө н + ө ө н + ө ө ', 'у х а г д а х у н + ы г ', 'з у л г а а х + г а ', 'а ч а а л а х ', 'а р х е о л о х + а ', 'х и й с э г + г э х ', 'б а р у у н + т а а ', 'х а в х л а г а ', 'х ү ч т э й ', 'у р ш и х + г ', 'ч а н с + а а ', 'с л а й + д ', 'х и й с в э р л э х + л ', 'г о л + ы н ', 'б и т ү ү л э х + л э г ', 'а в х у у л а х + я ', 'ю б к + а ', 'д э г г ү й ', 'б а з а а х ', 'ш о р г о + л ж ', 'х у р а а н + г а а с ', 'ш ү т э х + э э н ', 'э в т э й н ', 'с ү л б э л д э х + э э н ', 'т ү л э э ч и н ', 'г а й х а л т а й + т а й ', 'з а р л а г а ', 'а н ч + о о с ', 'м ө л ж л ө г ө ', 'т а м г а л а х ', 'г ү н д ', 'э е л э х + д э г ', 'и л р э х ', 'х э р э г т э й + р ү ү ', 'д у у г а р г а х ', 'д а й н а н + р у у ', 'х э в и й н + т э й ', 'т у с т а й ', 'ч ө л ө ө т э й + г ', 'г э р э л т + л т ', 'ч у х а л ч л а х ', 'х ө в + д ', 'у с т г а х + л ', 'ү з э м ж + т э й ', 'о р о н + т о й ', 'о н г о й л г о х ', 'т э р г ү ү л э г ч и д + э э с ', 'м э м з и к + л ', 'х ү р э э л э х ', 'т о р + и х + ё ', 'н о т л о н + г о о ', 'с а а д а х + г ү й ', 'б ү р д э х + ү ү л э х ', 'т о х и р о м ж т о й г ', 'ш а в а а р а х ', 'т е к с + т ', 'г а ш у у д а л + ы н ', 'а с с е м б л + и й ', 'ө в + ө ө ', 'э в г ү й ', 'а ж и л л а х + н а ', 'д э в ү ү р ', 'ч а д а л г ү й ', 'а м т л а х + р у у ', 'х ү н д э т г э л + э э ', 'а ж и а ', 'х о т л д о г ', 'н и й г э м л э х + л э г ', 'з о х и ц у у л а л + р у у ', 'т о в о й х + с о н ', 'с у л ь д а а ', 'ц а г д а а д ', 'х э л э х ү й н ', 'з ү ү д л э х ', 'а н к е т р + р у у ', 'т о м р о у л а х + л т ', 'т ө г ө х + л ', 'з у л г а а х + с а н ', 'ч и м э г л э х + л ', 'х о н ь + о о ', 'у т а а ', 'х а в ч а а ', 'з а р ц а х + у у л а х ', 'д у н д а х + а а р ', 'с э г с и й х + с э н ', 'х ө х + в ч ', 'з у у р а л д а х + м а й ', 'н ө л + ө ө ', 'г э р э л т + с э н ', 'з о о х + л о х ', 'н э г д ү г + э э р ', 'с у р г а х + а а ', 'м ө р г ө л д ө х ', 'н ө ө ц ', 'х э л м э г д э х + ц г э э ', 'у р а г + т а й ', 'т о с т о й ', 'а й м ш и г т а й + т а й ', 'о в и г + и й г ', 'б а г а х а н ', 'х э м ж ү ү р ', 'и р м э й л ', 'с т р а т е г + и й н ', 'з ө в л ө г ө ө н + ө ө с ', 'о н ц г ү й ', 'б а й н г ы н г ы г ', 'х а ч и р х а л т а й ', 'о л б о р л о л т + о й ', 'б ө н д ө г ө р + и й г ', 'м а р к е т и н + г ', 'с а н д + р у у ', 'х э л м э г д э х + н г э э ', 'н ү д э э ', 'т э г ш х э н ', 'т э ж и х + л ', 'н у у ц ', 'б о л о в с р о л ', 'т э м ц э л ', 'х ө г + ө ө ', 'х э р э г + э ', 'з ү р х т э й + э э р ', 'ч а р м а й л + т а й ', 'ч ө л ө ө + р ү ү ', 'б а р а г ц а а л а х + л ', 'а в х у у л а х + м а а р ', 'и н т + о о р ', 'ө ө х + т э й ', 'ц ө ө р ө х + м ', 'с а й ш а а х ', 'х а т у у л а х + г а ', 'х а г а р а л ', 'а я г а л а х ', 'х о ж и м д о х ', 'х ү с э л + д ', 'с ү й д э х ', 'у с т г а х + г ч ', 'ш о р г о + о н + д ', 'с у л р у у л а х ', 'т о в о й х + н о ', 'д а р у у л г а т а ', 'х э с ү ү л э х + л ч ', 'ц у у + т а й ', 'х ө с ө р д ө х + ү ү л э х ', 'х о м с + д о х ', 'к о ф е ш + о о ', 'у р + т ', 'г о л о г д о х + л ', 'ө р г ө ж и х + ү ү л э х ', 'с у у р и л а х + л т ', 'г э р э л + т э х ', 'ц а р д а х + у у л ', 'х э л м э г д э х + м э г ц ', 'ү р ч л э э ', 'г ү з э э л з г э н + э э с ', 'б а й г у у л а х + г д а х ', 'з у р л а г а ', 'ү н э м ш и х + л ', 'т у й л ы н + а а р ', 'х о р о м о й ', 'х я м р а л ', 'с е р и х + л ', 'о в и г + и й н ', 'а м ь + а р ', 'б я ц + л а х ', 'а а в ы н х + ы г ', 'б а р ь ц а а + д ', 'а р в и х + ч ', 'х ү н д э э ', 'д э л г ү ү р ', 'м и н ю ү + т ', 'д а м ж у у л а х + л т ', 'х ө г + ж и х ', 'б а р и м т а а ', 'ү з ү ү р т э й ', 'х ө г т э й + ө ө р ', 'г а ш у у д а л т а й + а а с ', 'ө н ц ө г + и й н ', 'а р г а х + г у у ', 'и ч + э э ', 'а л д а х + г д а х ', 'о л и г г ү й ', 'ү д э х ', 'а ч + а а ', 'з о р и г + т о й ', 'д э г э э д э х ', 'у н т р а х + а а х ', 'с у р т а л ч и л г а а н ы + ы ', 'б а г т р а а ', 'а ж + ы г ', 'б у я н + а а ', 'б о л о в с р у у л а х ', 'х ө г ж и л т э й + ө ө р ', 'и л д ч и н ', 'т ү г э х + ж э э ', 'з а р а а ', 'з а м б а р а а г ү й ', 'а ш и г + и й н ', 'з у р х а й ', 'х а н и а д ', 'з а х и а л а х + р у у ', 'ё р о о х + л ', 'т а й л б а р + л а х ', 'т а с р а х + л г ү й ', 'с у м а а ', 'т у й л а а ', 'з а г а с ч и н ', 'б у ф е + т ', 'а р х и х + ч и н ', 'а м ь + и й г ', 'т о в о й х + г о ', 'б а г ш а а ', 'ш о х о й + д о х ', 'г л ю к + ы + о о р ', 'т о д о р х о й л о р + р у у ', 'т о м р о х + у у л а х ', 'б ө м б ө р ц ө х + ө ө р ', 'с э р э г ш и ш ', 'д а р а м т + т а й ', 'э р э э л ж + л э х ', 'н о й р о н д ', 'ш и л э г д э х + л ', 'б ө ө л ж и х + м ө р ', 'г а г н у у р ', 'б у я н + ы ', 'ц о м + о о с + о о с + о о с + о о с + о ']\n",
            "['а д г и й н ', 'и л б э ч и н ', 'д э в т э р л э х ', 'х и й с в э р ж и л т ', 'з ө ө л р ө х ', 'у л а й р с а н ', 'о р л у у л а л т ', 'г а н ц а а р д а х ', 'л у й в а р ', 'а в х у у л ш г ү й ', 'б ө н д г ө р т ', 'с а а т а л ', 'х ү ү д ', 'б у в т н а х ', 'х ү й т э н ', 'з о г д о р ', 'с о н с о х у й ', 'д ү р в э г ч р ү ү ', 'г я л б а х ', 'с и м ф о з и у м ', 'г а ш у у н ', 'х о л б о ц ', 'у р г а ц а д ', 'х э в р ү ү ', 'ү з ү ү р г ү й ', 'д у р а н д ', 'с э т г ү ү л ч ', 'х ү л э э с ', 'н о т о л г о о н д ', 'и л э р х и й л э г д э х ', 'б а й ц а а г ч ', 'т у й л ы г ', 'ө в ө л ', 'д ү р м и й н ', 'с э ж а б и н ь ', 'о й д ', 'ч и г э э ', 'т о р н о о с ', 'т э э г л э х ', 'т э м т р ү ү л ', 'х ү ч н и й ', 'з э в р ү ү ', 'х у в ь с г а л ', 'г а ш у у д а л т а й ', 'п и в о о р ', 'б а л а р т а х ', 'с у р г а м ж и й г ', 'б э л д э х ', 'с о ё л ж с о н ', 'ш и н ж э э ч ', 'а н г и л а х ', 'н ө х ө р с ө г ', 'а й м ш г а а р ', 'д о р г и о ', 'ш а а н т г а а ', 'с о н д г о й р о л г ү й ', 'д а м ч и н ', 'х ү ү р н э л ', 'з у г а а г ', 'о д о о ', 'с о н д г о й р о л г ү й ', 'о в р о о ', 'а р и а ', 'т ө л ө в л ө г ө ө н ө ө с ', 'м э д ү ү л э г ', 'ө в г ө н д ', 'х о л б о о с ', 'а м и н ы ', 'б а й л д а а н ', 'д ү ү ж л ү ү р ', 'х э л м э г д ж э э ', 'т э с в э р ', 'т у й л а а с ', 'э н э р э л г ү й ', 'н э в т р э х ', 'а в х у у л з н а ', 'з э р э г л э э ', 'а м т а а р ', 'и д э в х ж ү ү л э х ', 'т э р г ү ү л э х ', 'т о в о й ё ', 'х ө т ч ө ө ', 'с а а д т а й ', 'о н о ш л о г о о ', 'х э л м э г д э э с э й ', 'м а с л ы г ', 'т о р л у у ', 'ш ү ү х д э х ', 'з а а г т ', 'т э м д э г л э х ', 'и р в э г э н э т э л ', 'н и й г э м ч л э л ', 'з а х и р г а а ', 'ү л д э э х ', 'ч и х э р л э г ', 'м ө г ө ө р с ө н д ', 'ү з ү ү л б э р ', 'н э р г ү й ', 'ө г ү ү л э г д э х ү ү н ', 'у у р г а л а х ', 'ч у у л г а ', 'а а в т а й ', 'с о н и р х о г ч и й г ', 'ү е э с ', 'б ү р м э л ', 'т р а н с ф о р м а т о р а а с ', 'х у р д а с г а г ч ', 'ү н э т э й ', 'с э ж и г л э г д э г ч ', 'т а й р д а с р у у ', 'и л р ү ү л э х ', 'х у д а л д а а ', 'ж и ж и г ', 'г э р э э ', 'м о р и о ', 'р а й о н ', 'з у г а а г а а ', 'у р а г т ', 'о л ш р у у л а х ', 'б и ж р ү ү ', 'ц у ц л а х ', 'х у у ч и р с а н ', 'д а м ж у у л а г ч ', 'и л д ', 'б ү ү д г э р ', 'н о т л о н г о о ', 'х а р ш и л д ', 'ч а н г а а х ', 'к о ф е й н ', 'т а а р у у х а н ', 'д а р у у л г а р у у ', 'а в х у у л ц г а а ', 'з а н а л х и й л э х ', 'у р г а ц а г ', 'х а н а а ', 'п а л ь т о г о о ', 'б о г ц о о ', 'з о в л о н ', 'с о н и р х о г ч и й н ', 'с о ё л г ү й ', 'у с т а й ', 'а р и л ж а а ', 'э м э э л ', 'т у с л а м ж ', 'а р з а й с а н ', 'о н о в ч и й н ', 'ц ө ө р м ө ө ', 'ц о ч о о х ', 'ж и ж и г с г э х ', 'и х э н х ', 'х э в л и й г ', 'д а м ж у у л а х ', 'з э в р ү ү н ', 'н ү д р ү ү ', 'ч ө л ө ө н и й ', 'т э р г ү ү л э г ч и й г ', 'т а а л а м ж т а й ', 'с э ж и г л э х ', 'ө в ө р л ө м ө г ц ', 'и р в э г э н э е ', 'б э р х ш э э л ', 'х э л м э г д э л г ү й ', 'х э л м э г д э э с э й ', 'ш о р г о о л ж р у у ', 'н а р л а г ', 'б у л и н г а р т ', 'м а с ш т а б т ', 'о н о в ч о о ', 'х а н г а л у у н ', 'а ю у л р у у ', 'д ү р в э г ч и й г ', 'у с л а г ч ', 'з э э л и й н ', 'т о в о й г о о с о й ', 'ү з ү ү л э н г э э ', 'т р и к о ', 'с у д л а а ч ', 'ш о р г о о л ж т о й ', 'д у т а г д а л т а й ', 'д а р у у л г а д ', 'у р х и д а х ', 'у й т г а р ы г ', 'а м ь р у у ', 'б а т а л г а а ', 'н я г т а р ш л а а ', 'м у ш г и а ', 'м а р г а а н ', 'а л с л а х ', 'ш у у р х а й л а х ', 'н я г т ', 'т у р ш л а г а ', 'ш ү л т л э г ', 'б у у р ь т а й ', 'ш у н а л г ү й ', 'х я м г а т а й ', 'к о к т е й л ', 'д о р о й т л о о ', 'ч у л у у ж и х ', 'х у г а ц а а г ү й ', 'б а р и в ч л а х ', 'ш а л т г а а н г ү й ', 'а м с а х ', 'д э г э э ', 'х а ш и л т ', 'ш и м п а н з е ', 'ц э г ц т э й ', 'г о л д ', 'ц э в э р х э н ', 'б у л и н г а р а а с ', 'х а р д л а г а ', 'х и ч э э н г ү й ', 'т ө л ү ү л э х ', 'у р а н д ', 'ө р ш ө ө н г ү й ', 'х э р г э э р ', 'а ю у л а а р ', 'г о н с о й л г о х ', 'т о р о о р ', 'о р о н р у у ', 'ө р с ө л д ө ө н т э й ', 'ү н э г э э ', 'д у у л а а ч ', 'х у в х а й р а х ', 'х ү н д э т г э л э э с ', 'б о г и н о с г о х ', 'о р н ы г ', 'ш а г н а х ', 'т о в о й л г ү й ', 'т э р г ү ү л э г ч э э ', 'з у г а а н д ', 'г а ш у у д л а а ', 'а а в а а р ', 'з у л г а а л а а ', 'х у в и р ш г ү й ', 'г и ж и г д э х ', 'о р о г н о з н о ', 'д о л г и о г о о ', 'з а в х а р с а н ', 'д а й ч и н ', 'х я з г а а р ', 'х ү н д э т г э л э э р ', 'х о р с о л ', 'о р о л д л о г о ', 'с а л г а х ', 'д о о г ', 'х э т э р х и й ', 'н а й р л а г а ', 'з о р и г о о ', 'х а м а а р а х г ү й ', 'х э в д ', 'б ү т э э г д э х ү ү н ', 'ч а н г а л у у р ', 'з а л и л а н ', 'ш а в х а г д а ш г ү й ', 'х ө н г ө л ө х ', 'э д э л г э э ', 'н а й р ы н ', 'б у ц а а х ', 'у р ц а а ', 'н у х л а х ', 'б а р т а а т а й ', 'ү й м э л д э х ', 'а н д ', 'х ө р ө н г ө т н ө ө ', 'а я л а л ', 'х ө г ж и л ', 'д о г о л о х ', 'с о н д г о й р о л г ү й ', 'х а р и у ', 'ү ү с г э л ', 'ш ө р м ө с ', 'т а с л а л ', 'а м ь с г а л а х ', 'э г з э г р ү ү ', 'т о р т о й ', 'т р а н с ф о р м а т о р а а ', 'х о н ш о о р ', 'а р и р у у ', 'г о з г о р ', 'ш ү г э л д э х ', 'э р в э э х и й ', 'ш а л г у у л а х ', 'х а м т ы н ', 'б у л и н г а р т а й ', 'д а л д л а х ', 'х а д а а с ', 'э л е к т р о л и т ', 'д у н д ж а а с ', 'х и й с в э р ', 'а м ь ж и р г а а ', 'ү х э л ', 'б ө н д г ө р и й н ', 'ш ү ү м ж л э г ч ', 'б у л и н г а р а а р ', 'а н х н ы ', 'ё с о л г о о ', 'м а н л а й л а г ч ', 'з а р а а ', 'т о в о й ц г о о ', 'ө в ө р л ө с ө н ', 'з о р и г о о р ', 'у х а г д а х у у н ', 'х у в ь д ', 'т э н г э р л э г ', 'х ө г ж и л р ү ү ', 'т а й р д а с н ы ', 'х ү ч и й г ', 'а й м ш и г р у у ', 'э г з г э э ', 'б а г ц а а р ', 'б ө н д г ө р ', 'т а н и л ц у у л г а ', 'з э м л э х ', 'т о р о о ', 'х э л э х ү й ', 'л а в ш а г а т а н ', 'ц о х и о ', 'х ө г ө ө с ', 'з о г с о о х ', 'з о х и м ж т о й ', 'т о о ц о о л о л т ', 'с о н г у у л ь ', 'ц ө ө р м ө ө р ', 'ш а л т г и й г ', 'ү н э л г э э ', 'у н а г а а ', 'з у л г а а м а г ц ', 'м ө р г ө л д ө ө н т э й ', 'ц э в э р л э г э э ', 'з а л г а в а р ', 'г ү ж и р д л э г и й н ', 'б ү т э э м ж ', 'и н э э д т э й ', 'а н ч и н ', 'ө ч ү ү х э н ', 'б а й н г а а ', 'д ү р в э г ч т э й ', 'ч и г э э р э э ', 'д э в с л э х ', 'х а р и у л т ', 'х у в ь г ү й ', 'х о н о г о о с ', 'а л б а д а н ', 'д у у г ү й ', 'ч а р м а й л т ', 'д о т н о с о х ', 'г а р г а ц т а й ', 'х ү ч н э э с ', 'ш и н э т г э х ', 'н э р т э й ', 'д о н с о л г о о ', 'с о н и р х о л г ү й ', 'ц э в д э г ', 'х а р у у л а х ', 'н и й т ', 'а м и н а а с ', 'б о р л у у л а х ', 'т о л б о р у у ', 'г л ю к о з о о с ', 'б а й р а н д ', 'ш у в т н а х ', 'г ү н ж д э э ', 'а д и л х а н ', 'х а н г а л т г ү й ', 'х э м ж э э л ш г ү й ', 'д у н д ', 'х ө т ө л б ө р ', 'к а з и н о ч и н ', 'ц э в р ү ү т э х ', 'х э т р э х ', 'т у л г у у р ', 'б о л о м ж т о й ', 'д а р х л а л ', 'д о г ш и н ', 'з о р и г т ', 'з о х и ц о х ', 'х э л м э г д м э э р ', 'т о х и р о м ж и й н ', 'г а д а г ш л у у л а л т ', 'с а й д а а ', 'х ү ч э э р ', 'б о д л о г о ш р о л ', 'н ү д т э й ', 'у й т г а р а а с ', 'э х и й н ', 'ш а р х л а а ', 'о г т л о о с ', 'ө в ө р м ө ц ', 'ж е л л и ', 'г ү ж и р д л э г р ү ү ', 'т о н о г л о х ', 'з а г а т н у у л а х ', 'у р л а л ', 'н э в т р ү ү л э х ', 'а ж и л л у у л ', 'а н г и л а л т ', 'г о л о о ', 'б ү т э м ж и й н ', 'х у ш г а а ', 'х о л ь ц ', 'х э л м э г д э ц г э э ', 'о н ц л о х ', 'ш о н г о о ', 'х э м н э х ', 'б а й н г ы н ', 'н ү д н и й ', 'т о в о й ч и х ', 'х ө д ө л м ө р ч и н ', 'б ө ө г н ө р ү ү л э х ', 'с ө р г ө л д ө ө н ө ө ', 'у х а г д а х у у н ы г ', 'з у л г а а л г а ', 'а ч а а л а х ', 'а р х е о л о г и ', 'х и й с г э х ', 'б а р у у н т а а ', 'х а в х л а г а ', 'х ү ч т э й ', 'у р ш и г ', 'ч а н с а а ', 'с л а й д ', 'х и й с в э р л э л ', 'г о л ы н ', 'б и т ү ү л э г ', 'а в х у у л ъ я ', 'ю б к а ', 'д э г г ү й ', 'б а з а а х ', 'ш о р г о о л ж ', 'х у р а а н г у й н а а с ', 'ш ү т э э н ', 'э в и й н ', 'с ү л б э л д э э н ', 'т ү л э э ч и н ', 'г а й х а л т а й ', 'з а р л а г а ', 'а н ч о у с ', 'м ө л ж л ө г ', 'т а м г а л а х ', 'г ү н д ', 'э е л д э г ', 'и л р э х ', 'х э р э г р ү ү ', 'д у у г а р г а х ', 'д а й с а н р у у ', 'х э в т э й ', 'т у с т а й ', 'ч ө л ө ө г ', 'г э р э л т э л т ', 'ч у х а л ч л а х ', 'х ө в ө н д ', 'у с т г а л ', 'ү з э м ж т э й ', 'о р о н т о й ', 'о н г о й л г о х ', 'т э р г ү ү л э г ч э э с ', 'м ь ю з и к л ', 'х ү р э э л э х ', 'т о р н и ё ', 'н о т л о н г о о ', 'с а а д г ү й ', 'б ү р д ү ү л э х ', 'т о х и р о м ж и й г ', 'ш а в а а р а х ', 'т е к с т ', 'г а ш у у д л ы н ', 'а с с е м б л е й ', 'ө в ө ө ', 'э в г ү й ', 'а ж и л л а з н а ', 'д э в ү ү р ', 'ч а д а л г ү й ', 'а м т а л г а а р у у ', 'х ү н д э т г э л э э ', 'а ж л а а ', 'х о т - д о г ', 'н и й г э м л э г ', 'з о х и ц у у л а л т р у у ', 'т о в о й с о н ', 'с у л ь д а а ', 'ц а г д а а д ', 'х э л э х ү й н ', 'з ү ү д л э х ', 'а н к е т р у у ', 'т о м р у у л а л т ', 'т ө г ө л ', 'з у л г а а с а н ', 'ч и м э г л э л ', 'х о н и о ', 'у т а а ', 'х а в ч а а ', 'з а р ц у у л а х ', 'д у н д ж а а р ', 'с э г с и й с э н ', 'х ө х ө в ч ', 'з у у р а л д а м х а й ', 'н ө л ө ө ', 'г э р э л т с э н ', 'з о о г л о х ', 'н э г д ү г э э р ', 'с у р г а м ж а а ', 'м ө р г ө л д ө х ', 'н ө ө ц ', 'х э л м э г д э ц г э э ', 'у р а г т а й ', 'т о с т о й ', 'а й м ш и г т а й ', 'о в г и й г ', 'б а г а х а н ', 'х э м ж ү ү р ', 'и - м э й л ', 'с т р а т е г и й н ', 'з ө в л ө г ө ө н ө ө с ', 'о н ц г ү й ', 'б а й н г ы г ', 'х а ч и р х а л т а й ', 'о л б о р л о л т т о й ', 'б ө н д г ө р и й г ', 'м а р к е т и н г ', 'с а н д р у у ', 'х э л м э г д э н г э э ', 'н ү д э э ', 'т э г ш х э н ', 'т э ж э э л ', 'н у у ц ', 'б о л о в с р о л ', 'т э м ц э л ', 'х ө г ө ө ', 'х э р г э э ', 'з ү р х э э р ', 'ч а р м а й л т а й ', 'ч ө л ө ө р ү ү ', 'б а р а г ц а а л а л ', 'а в х у у л м а а р ', 'и н т о о р ', 'ө ө х т э й ', 'ц ө ө р ө м ', 'с а й ш а а х ', 'х а т у у л г а ', 'х а г а р а л ', 'а я г а л а х ', 'х о ж и м д о х ', 'х ү с л э н д ', 'с ү й д л э х ', 'у с т г а г ч ', 'ш о р г о о л ж и н д ', 'с у л р у у л а х ', 'т о в о й з н о ', 'д а р у у л г а а ', 'х э с ү ү л ч ', 'ц у у т а й ', 'х ө с ө р д ү ү л э х ', 'х о м с д о х ', 'к о ф е ш о п ', 'у р т ', 'г о л о г д о л ', 'ө р г ө ж ү ү л э х ', 'с у у р и л у у л а л т ', 'г э р э л т э х ', 'ц а р д у у л ', 'х э л м э г д м э г ц ', 'ү р ч л э э ', 'г ү з э э л з г э н э э с ', 'б а й г у у л а г д а х ', 'з у р л а г а ', 'ү н э м ш и л ', 'т у й л а а р ', 'х о р м о й ', 'х я м р а л ', 'с е р и а л ', 'о в г и й н ', 'а м и а р ', 'б я ц л а х ', 'а а в ы г ', 'б а р ь ц а а г ', 'а р в и ч ', 'х ү н д э э ', 'д э л г ү ү р ', 'м и н ю ү э т ', 'д а м ж у у л а л т ', 'х ө г ж и х ', 'б а р и м т а а ', 'ү з ү ү р т э й ', 'х ө г ө ө р ', 'г а ш у у д л а а с ', 'ө н ц г и й н ', 'а р г у у ', 'и ч э э ', 'а л д а г д а х ', 'о л и г г ү й ', 'ү д э ш ', 'а ч а а ', 'з о р и г т о й ', 'д э г э э д э х ', 'у н т р а а х ', 'с у р т а л ч и л г а а н ы ', 'б а г т р а а ', 'а ж л ы г ', 'б у я н а а ', 'б о л о в с р у у л а х ', 'х ө г ж л ө ө р ', 'и л д ч и н ', 'т ү г ж э э ', 'з а р а а г а а ', 'з а м б а р а а г ү й ', 'а ш г и й н ', 'з у р х а й ', 'х а н и а д ', 'з а х и а л а г ч р у у ', 'ё р о о л ', 'т а й л б а р л а х ', 'т а с р а л г ү й ', 'с у м а а ', 'т у й л а а ', 'з а г а с ч и н ', 'б у ф е т ', 'а р х и ч и н ', 'а м и й г ', 'т о в о й л г о ', 'б а г ш а а ', 'ш о х о й д о х ', 'г л ю к о з о о р ', 'т о д о р х о й л о л т р у у ', 'т о м р у у л а х ', 'б ө м б ө р ц г ө ө р ', 'с э р г э э ш ', 'д а р а м т т а й ', 'э р э э л ж л э х ', 'н о й р о н д ', 'ш и л э г д м э л ', 'б ө ө л ж с ө ө р ', 'г а г н у у р ', 'б у я н ы ', 'ц о м о о с ']\n"
          ],
          "name": "stdout"
        }
      ]
    },
    {
      "cell_type": "code",
      "metadata": {
        "id": "b3fqwYUPVXxd"
      },
      "source": [
        "import file_service as fl"
      ],
      "execution_count": null,
      "outputs": []
    },
    {
      "cell_type": "code",
      "metadata": {
        "id": "HD3D_cQqVcH_"
      },
      "source": [
        "file_name = 'words.tsv'\n",
        "columns = [ 'word_id', 'lemma', 'POS', 'Category', 'Derivation', 'Source word', 'Derivation POS', 'Source POS', 'Inflection' ]\n",
        "all_words = fl.read_file( file_name, columns, '\\t', 0, True)\n",
        "\n",
        "\n",
        "file_name = 'mn-noun.tsv'\n",
        "noun_words = fl.read_file( file_name, None, '\\t', 0 )\n",
        "\n",
        "file_name = 'mn-verb-new.csv'\n",
        "verb_words = fl.read_file( file_name, None, '\\t', 0 )\n",
        "  "
      ],
      "execution_count": null,
      "outputs": []
    },
    {
      "cell_type": "code",
      "metadata": {
        "id": "3dBnD_eYVeQY"
      },
      "source": [
        "def searchFromAllWord(word):\n",
        "  for index, row in all_words.iterrows():\n",
        "    if word == row[1]:\n",
        "      pos = row[2].split(';')\n",
        "      return pos[0]\n",
        "\n",
        "def searchFromNoun(word):\n",
        "  for index, row in noun_words.iterrows():\n",
        "    if word == row[1]:\n",
        "      return row[0]\n",
        "\n",
        "def searchFromVerb(word):\n",
        "  for index, row in verb_words.iterrows():\n",
        "    if word == row[1]:\n",
        "      return row[0]"
      ],
      "execution_count": null,
      "outputs": []
    },
    {
      "cell_type": "code",
      "metadata": {
        "id": "Zej4NjWfVka5"
      },
      "source": [
        "def getPosition(word):\n",
        "  pos = searchFromAllWord(word)\n",
        "  if pos is None:\n",
        "    noun = searchFromNoun(word)\n",
        "    if noun is None:\n",
        "      verb = searchFromVerb(word)\n",
        "      if verb is not None: \n",
        "        return searchFromAllWord(verb) \n",
        "    return searchFromAllWord(noun)\n",
        "  return pos\n",
        "\n",
        "noun_pos = []\n",
        "verb_pos = []\n",
        "adj_pos = []\n",
        "other = []\n",
        "\n",
        "for res in lost_actual:\n",
        "  pos = getPosition( res.replace(' ', '') )\n",
        "  if pos is None: other.append(res)\n",
        "  elif pos == 'noun': noun_pos.append(res)\n",
        "  elif pos == 'verb': verb_pos.append(res)\n",
        "  elif pos == 'adjective': adj_pos.append(res)\n",
        "  else : other.append(res)\n",
        "\n",
        "# print(len(result))\n"
      ],
      "execution_count": null,
      "outputs": []
    },
    {
      "cell_type": "code",
      "metadata": {
        "id": "BIU6at3LSu2L",
        "colab": {
          "base_uri": "https://localhost:8080/"
        },
        "outputId": "76779444-ba8c-4676-b712-e9d2cbb53ad1"
      },
      "source": [
        "print(len(lost_actual))\n",
        "print(len(noun_pos))\n",
        "print(len(verb_pos))\n",
        "print(len(adj_pos))\n",
        "print(len(other))"
      ],
      "execution_count": null,
      "outputs": [
        {
          "output_type": "stream",
          "text": [
            "634\n",
            "379\n",
            "87\n",
            "110\n",
            "58\n"
          ],
          "name": "stdout"
        }
      ]
    },
    {
      "cell_type": "code",
      "metadata": {
        "id": "I5zVjhzPldcw",
        "colab": {
          "base_uri": "https://localhost:8080/",
          "height": 620
        },
        "outputId": "d3e110c6-c0e5-4835-a2dd-c5253d2b0235"
      },
      "source": [
        "# wrong translation\n",
        "translate('х и й с в э р ж и л т')"
      ],
      "execution_count": null,
      "outputs": [
        {
          "output_type": "stream",
          "text": [
            "х и й с в э р ж и л т\n",
            "Input: <start> х и й с в э р ж и л т <end>\n",
            "Predicted translation: х и й с в э р + т <end> \n"
          ],
          "name": "stdout"
        },
        {
          "output_type": "display_data",
          "data": {
            "image/png": "[encoded data removed]",
            "text/plain": [
              "<Figure size 720x720 with 1 Axes>"
            ]
          },
          "metadata": {
            "tags": [],
            "needs_background": "light"
          }
        }
      ]
    },
    {
      "cell_type": "code",
      "metadata": {
        "id": "feAxRXkHD3bA",
        "colab": {
          "base_uri": "https://localhost:8080/",
          "height": 691
        },
        "outputId": "597fac90-6850-4b17-ffed-63d7f67361b3"
      },
      "source": [
        "# wrong translation\n",
        "translate('а д г и й н')"
      ],
      "execution_count": null,
      "outputs": [
        {
          "output_type": "stream",
          "text": [
            "а д г и й н\n",
            "Input: <start> а д г и й н <end>\n",
            "Predicted translation: а д и г + и й н <end> \n"
          ],
          "name": "stdout"
        },
        {
          "output_type": "display_data",
          "data": {
            "image/png": "[encoded data removed]",
            "text/plain": [
              "<Figure size 720x720 with 1 Axes>"
            ]
          },
          "metadata": {
            "tags": [],
            "needs_background": "light"
          }
        }
      ]
    }
  ]
}